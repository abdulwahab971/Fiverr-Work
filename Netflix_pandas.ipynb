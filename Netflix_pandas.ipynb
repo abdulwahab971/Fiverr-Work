{
  "nbformat": 4,
  "nbformat_minor": 0,
  "metadata": {
    "colab": {
      "provenance": [],
      "include_colab_link": true
    },
    "kernelspec": {
      "name": "python3",
      "display_name": "Python 3"
    }
  },
  "cells": [
    {
      "cell_type": "markdown",
      "metadata": {
        "id": "view-in-github",
        "colab_type": "text"
      },
      "source": [
        "<a href=\"https://colab.research.google.com/github/abdulwahab971/Fiverr-Work/blob/main/Netflix_pandas.ipynb\" target=\"_parent\"><img src=\"https://colab.research.google.com/assets/colab-badge.svg\" alt=\"Open In Colab\"/></a>"
      ]
    },
    {
      "cell_type": "markdown",
      "metadata": {
        "id": "HlmodTTEDU1G"
      },
      "source": [
        "Let's get started by uploading data files from a github repository "
      ]
    },
    {
      "cell_type": "code",
      "metadata": {
        "id": "_b_d3Kcv-I9E",
        "outputId": "ce94eefb-ce0d-4b45-a452-14ff45c6c600",
        "colab": {
          "base_uri": "https://localhost:8080/"
        }
      },
      "source": [
        "# The following script will pull a datasets from a GitHub repository\n",
        "# and copy them into the notebook so that you can analyze the data.\n",
        "# An unbelievable amount of data is available publicly through this method.\n",
        "! git clone https://github.com/MathMiller/DSC1010Data.git"
      ],
      "execution_count": null,
      "outputs": [
        {
          "output_type": "stream",
          "name": "stdout",
          "text": [
            "Cloning into 'DSC1010Data'...\n",
            "remote: Enumerating objects: 25, done.\u001b[K\n",
            "remote: Counting objects: 100% (25/25), done.\u001b[K\n",
            "remote: Compressing objects: 100% (23/23), done.\u001b[K\n",
            "remote: Total 25 (delta 8), reused 0 (delta 0), pack-reused 0\u001b[K\n",
            "Unpacking objects: 100% (25/25), 3.57 MiB | 2.60 MiB/s, done.\n"
          ]
        }
      ]
    },
    {
      "cell_type": "markdown",
      "metadata": {
        "id": "cS8IMSkr6MUq"
      },
      "source": [
        "## Understanding our data\n",
        "\n",
        "Before we move on, we should make sure that we have a clear understanding of the data in our possession. \n",
        "\n",
        "We will create a simple **Data Dictionary** to provide insight into the contents of our data.\n",
        "\n",
        "Several of the columns contain information that is somewhat self-explanatory. Others perhaps may need some clarification."
      ]
    },
    {
      "cell_type": "markdown",
      "metadata": {
        "id": "Sxg0AFZJ7fv2"
      },
      "source": [
        "***\n",
        "\n",
        "### netflix_titles_df Data Dictionary\n",
        "\n",
        "netflix_titles_df columns are listed below with a short description of the data contained therein:\n",
        "\n",
        "'show_id': integer -  8 digits - unique identifier\n",
        "\n",
        "'type' : string -  Movie or TV Show - indication of whether the title represents a movie, tv show\n",
        "\n",
        "'title' : string - title of the show\n",
        "\n",
        "'director' : string - full name(s) of the director(s), separated with commas when there are more than one. NaN indicates that no director is listed.\n",
        "\n",
        "'cast' : string - list of cast members separated by commas\n",
        "\n",
        "'country' : string - country (or countries) of production with multiple countries separated by commas\n",
        "\n",
        "'date_added' : date - in the form January 1, 2020 indicating when the title was added to Netflix\n",
        "\n",
        "'release_year' : integer - such as 2020 indicating the year the title was released to the public\n",
        "\n",
        "'rating' : string - indicating the rating placed on the title upon release, such as TV-14, TV-MA, PG, R ... or nan when not included.\n",
        "\n",
        "'duration' : string - 1-3 digit number followed by min for a Movie or Season(s), indicating number of minutes for a movie or seasons for a TV show\n",
        "\n",
        "'listed_in' : string - indicating the Netflix category in which the show is listed, such as Comedies, Kid's TV, etc. ... or a list of such categories separated by commas\n",
        "\n",
        "'description' : string - a brief (one sentence) synopsis of the premise of the show\n",
        "\n",
        "***\n"
      ]
    },
    {
      "cell_type": "markdown",
      "source": [
        "## Opening the Data"
      ],
      "metadata": {
        "id": "Dmbiv5zKbVFB"
      }
    },
    {
      "cell_type": "code",
      "metadata": {
        "id": "C6GJCah9g8ef"
      },
      "source": [
        "#import pandas, the python package for data analytics\n",
        "import pandas as pd\n",
        "import re\n",
        "\n",
        "# Read the data file into a pandas dataframe (Spreadsheet)\n",
        "filename = 'DSC1010Data/netflix_titles.csv'\n",
        "netflix_titles_df = pd.read_csv(filename)"
      ],
      "execution_count": null,
      "outputs": []
    },
    {
      "cell_type": "code",
      "source": [
        "netflix_titles_df"
      ],
      "metadata": {
        "id": "ynXZJaIAeUfb",
        "outputId": "f172bbed-6036-481e-da5f-5b2804019240",
        "colab": {
          "base_uri": "https://localhost:8080/",
          "height": 815
        }
      },
      "execution_count": null,
      "outputs": [
        {
          "output_type": "execute_result",
          "data": {
            "text/plain": [
              "     show_id     type                  title         director  \\\n",
              "0         s1    Movie   Dick Johnson Is Dead  Kirsten Johnson   \n",
              "1         s2  TV Show          Blood & Water              NaN   \n",
              "2         s3  TV Show              Ganglands  Julien Leclercq   \n",
              "3         s4  TV Show  Jailbirds New Orleans              NaN   \n",
              "4         s5  TV Show           Kota Factory              NaN   \n",
              "...      ...      ...                    ...              ...   \n",
              "8802   s8803    Movie                 Zodiac    David Fincher   \n",
              "8803   s8804  TV Show            Zombie Dumb              NaN   \n",
              "8804   s8805    Movie             Zombieland  Ruben Fleischer   \n",
              "8805   s8806    Movie                   Zoom     Peter Hewitt   \n",
              "8806   s8807    Movie                 Zubaan      Mozez Singh   \n",
              "\n",
              "                                                   cast        country  \\\n",
              "0                                                   NaN  United States   \n",
              "1     Ama Qamata, Khosi Ngema, Gail Mabalane, Thaban...   South Africa   \n",
              "2     Sami Bouajila, Tracy Gotoas, Samuel Jouy, Nabi...            NaN   \n",
              "3                                                   NaN            NaN   \n",
              "4     Mayur More, Jitendra Kumar, Ranjan Raj, Alam K...          India   \n",
              "...                                                 ...            ...   \n",
              "8802  Mark Ruffalo, Jake Gyllenhaal, Robert Downey J...  United States   \n",
              "8803                                                NaN            NaN   \n",
              "8804  Jesse Eisenberg, Woody Harrelson, Emma Stone, ...  United States   \n",
              "8805  Tim Allen, Courteney Cox, Chevy Chase, Kate Ma...  United States   \n",
              "8806  Vicky Kaushal, Sarah-Jane Dias, Raaghav Chanan...          India   \n",
              "\n",
              "              date_added  release_year rating   duration  \\\n",
              "0     September 25, 2021          2020  PG-13     90 min   \n",
              "1     September 24, 2021          2021  TV-MA  2 Seasons   \n",
              "2     September 24, 2021          2021  TV-MA   1 Season   \n",
              "3     September 24, 2021          2021  TV-MA   1 Season   \n",
              "4     September 24, 2021          2021  TV-MA  2 Seasons   \n",
              "...                  ...           ...    ...        ...   \n",
              "8802   November 20, 2019          2007      R    158 min   \n",
              "8803        July 1, 2019          2018  TV-Y7  2 Seasons   \n",
              "8804    November 1, 2019          2009      R     88 min   \n",
              "8805    January 11, 2020          2006     PG     88 min   \n",
              "8806       March 2, 2019          2015  TV-14    111 min   \n",
              "\n",
              "                                              listed_in  \\\n",
              "0                                         Documentaries   \n",
              "1       International TV Shows, TV Dramas, TV Mysteries   \n",
              "2     Crime TV Shows, International TV Shows, TV Act...   \n",
              "3                                Docuseries, Reality TV   \n",
              "4     International TV Shows, Romantic TV Shows, TV ...   \n",
              "...                                                 ...   \n",
              "8802                     Cult Movies, Dramas, Thrillers   \n",
              "8803             Kids' TV, Korean TV Shows, TV Comedies   \n",
              "8804                            Comedies, Horror Movies   \n",
              "8805                 Children & Family Movies, Comedies   \n",
              "8806     Dramas, International Movies, Music & Musicals   \n",
              "\n",
              "                                            description  \n",
              "0     As her father nears the end of his life, filmm...  \n",
              "1     After crossing paths at a party, a Cape Town t...  \n",
              "2     To protect his family from a powerful drug lor...  \n",
              "3     Feuds, flirtations and toilet talk go down amo...  \n",
              "4     In a city of coaching centers known to train I...  \n",
              "...                                                 ...  \n",
              "8802  A political cartoonist, a crime reporter and a...  \n",
              "8803  While living alone in a spooky town, a young g...  \n",
              "8804  Looking to survive in a world taken over by zo...  \n",
              "8805  Dragged from civilian life, a former superhero...  \n",
              "8806  A scrappy but poor boy worms his way into a ty...  \n",
              "\n",
              "[8807 rows x 12 columns]"
            ],
            "text/html": [
              "\n",
              "  <div id=\"df-5b369bfb-5708-46bf-8b2c-0f9ee08eebed\">\n",
              "    <div class=\"colab-df-container\">\n",
              "      <div>\n",
              "<style scoped>\n",
              "    .dataframe tbody tr th:only-of-type {\n",
              "        vertical-align: middle;\n",
              "    }\n",
              "\n",
              "    .dataframe tbody tr th {\n",
              "        vertical-align: top;\n",
              "    }\n",
              "\n",
              "    .dataframe thead th {\n",
              "        text-align: right;\n",
              "    }\n",
              "</style>\n",
              "<table border=\"1\" class=\"dataframe\">\n",
              "  <thead>\n",
              "    <tr style=\"text-align: right;\">\n",
              "      <th></th>\n",
              "      <th>show_id</th>\n",
              "      <th>type</th>\n",
              "      <th>title</th>\n",
              "      <th>director</th>\n",
              "      <th>cast</th>\n",
              "      <th>country</th>\n",
              "      <th>date_added</th>\n",
              "      <th>release_year</th>\n",
              "      <th>rating</th>\n",
              "      <th>duration</th>\n",
              "      <th>listed_in</th>\n",
              "      <th>description</th>\n",
              "    </tr>\n",
              "  </thead>\n",
              "  <tbody>\n",
              "    <tr>\n",
              "      <th>0</th>\n",
              "      <td>s1</td>\n",
              "      <td>Movie</td>\n",
              "      <td>Dick Johnson Is Dead</td>\n",
              "      <td>Kirsten Johnson</td>\n",
              "      <td>NaN</td>\n",
              "      <td>United States</td>\n",
              "      <td>September 25, 2021</td>\n",
              "      <td>2020</td>\n",
              "      <td>PG-13</td>\n",
              "      <td>90 min</td>\n",
              "      <td>Documentaries</td>\n",
              "      <td>As her father nears the end of his life, filmm...</td>\n",
              "    </tr>\n",
              "    <tr>\n",
              "      <th>1</th>\n",
              "      <td>s2</td>\n",
              "      <td>TV Show</td>\n",
              "      <td>Blood &amp; Water</td>\n",
              "      <td>NaN</td>\n",
              "      <td>Ama Qamata, Khosi Ngema, Gail Mabalane, Thaban...</td>\n",
              "      <td>South Africa</td>\n",
              "      <td>September 24, 2021</td>\n",
              "      <td>2021</td>\n",
              "      <td>TV-MA</td>\n",
              "      <td>2 Seasons</td>\n",
              "      <td>International TV Shows, TV Dramas, TV Mysteries</td>\n",
              "      <td>After crossing paths at a party, a Cape Town t...</td>\n",
              "    </tr>\n",
              "    <tr>\n",
              "      <th>2</th>\n",
              "      <td>s3</td>\n",
              "      <td>TV Show</td>\n",
              "      <td>Ganglands</td>\n",
              "      <td>Julien Leclercq</td>\n",
              "      <td>Sami Bouajila, Tracy Gotoas, Samuel Jouy, Nabi...</td>\n",
              "      <td>NaN</td>\n",
              "      <td>September 24, 2021</td>\n",
              "      <td>2021</td>\n",
              "      <td>TV-MA</td>\n",
              "      <td>1 Season</td>\n",
              "      <td>Crime TV Shows, International TV Shows, TV Act...</td>\n",
              "      <td>To protect his family from a powerful drug lor...</td>\n",
              "    </tr>\n",
              "    <tr>\n",
              "      <th>3</th>\n",
              "      <td>s4</td>\n",
              "      <td>TV Show</td>\n",
              "      <td>Jailbirds New Orleans</td>\n",
              "      <td>NaN</td>\n",
              "      <td>NaN</td>\n",
              "      <td>NaN</td>\n",
              "      <td>September 24, 2021</td>\n",
              "      <td>2021</td>\n",
              "      <td>TV-MA</td>\n",
              "      <td>1 Season</td>\n",
              "      <td>Docuseries, Reality TV</td>\n",
              "      <td>Feuds, flirtations and toilet talk go down amo...</td>\n",
              "    </tr>\n",
              "    <tr>\n",
              "      <th>4</th>\n",
              "      <td>s5</td>\n",
              "      <td>TV Show</td>\n",
              "      <td>Kota Factory</td>\n",
              "      <td>NaN</td>\n",
              "      <td>Mayur More, Jitendra Kumar, Ranjan Raj, Alam K...</td>\n",
              "      <td>India</td>\n",
              "      <td>September 24, 2021</td>\n",
              "      <td>2021</td>\n",
              "      <td>TV-MA</td>\n",
              "      <td>2 Seasons</td>\n",
              "      <td>International TV Shows, Romantic TV Shows, TV ...</td>\n",
              "      <td>In a city of coaching centers known to train I...</td>\n",
              "    </tr>\n",
              "    <tr>\n",
              "      <th>...</th>\n",
              "      <td>...</td>\n",
              "      <td>...</td>\n",
              "      <td>...</td>\n",
              "      <td>...</td>\n",
              "      <td>...</td>\n",
              "      <td>...</td>\n",
              "      <td>...</td>\n",
              "      <td>...</td>\n",
              "      <td>...</td>\n",
              "      <td>...</td>\n",
              "      <td>...</td>\n",
              "      <td>...</td>\n",
              "    </tr>\n",
              "    <tr>\n",
              "      <th>8802</th>\n",
              "      <td>s8803</td>\n",
              "      <td>Movie</td>\n",
              "      <td>Zodiac</td>\n",
              "      <td>David Fincher</td>\n",
              "      <td>Mark Ruffalo, Jake Gyllenhaal, Robert Downey J...</td>\n",
              "      <td>United States</td>\n",
              "      <td>November 20, 2019</td>\n",
              "      <td>2007</td>\n",
              "      <td>R</td>\n",
              "      <td>158 min</td>\n",
              "      <td>Cult Movies, Dramas, Thrillers</td>\n",
              "      <td>A political cartoonist, a crime reporter and a...</td>\n",
              "    </tr>\n",
              "    <tr>\n",
              "      <th>8803</th>\n",
              "      <td>s8804</td>\n",
              "      <td>TV Show</td>\n",
              "      <td>Zombie Dumb</td>\n",
              "      <td>NaN</td>\n",
              "      <td>NaN</td>\n",
              "      <td>NaN</td>\n",
              "      <td>July 1, 2019</td>\n",
              "      <td>2018</td>\n",
              "      <td>TV-Y7</td>\n",
              "      <td>2 Seasons</td>\n",
              "      <td>Kids' TV, Korean TV Shows, TV Comedies</td>\n",
              "      <td>While living alone in a spooky town, a young g...</td>\n",
              "    </tr>\n",
              "    <tr>\n",
              "      <th>8804</th>\n",
              "      <td>s8805</td>\n",
              "      <td>Movie</td>\n",
              "      <td>Zombieland</td>\n",
              "      <td>Ruben Fleischer</td>\n",
              "      <td>Jesse Eisenberg, Woody Harrelson, Emma Stone, ...</td>\n",
              "      <td>United States</td>\n",
              "      <td>November 1, 2019</td>\n",
              "      <td>2009</td>\n",
              "      <td>R</td>\n",
              "      <td>88 min</td>\n",
              "      <td>Comedies, Horror Movies</td>\n",
              "      <td>Looking to survive in a world taken over by zo...</td>\n",
              "    </tr>\n",
              "    <tr>\n",
              "      <th>8805</th>\n",
              "      <td>s8806</td>\n",
              "      <td>Movie</td>\n",
              "      <td>Zoom</td>\n",
              "      <td>Peter Hewitt</td>\n",
              "      <td>Tim Allen, Courteney Cox, Chevy Chase, Kate Ma...</td>\n",
              "      <td>United States</td>\n",
              "      <td>January 11, 2020</td>\n",
              "      <td>2006</td>\n",
              "      <td>PG</td>\n",
              "      <td>88 min</td>\n",
              "      <td>Children &amp; Family Movies, Comedies</td>\n",
              "      <td>Dragged from civilian life, a former superhero...</td>\n",
              "    </tr>\n",
              "    <tr>\n",
              "      <th>8806</th>\n",
              "      <td>s8807</td>\n",
              "      <td>Movie</td>\n",
              "      <td>Zubaan</td>\n",
              "      <td>Mozez Singh</td>\n",
              "      <td>Vicky Kaushal, Sarah-Jane Dias, Raaghav Chanan...</td>\n",
              "      <td>India</td>\n",
              "      <td>March 2, 2019</td>\n",
              "      <td>2015</td>\n",
              "      <td>TV-14</td>\n",
              "      <td>111 min</td>\n",
              "      <td>Dramas, International Movies, Music &amp; Musicals</td>\n",
              "      <td>A scrappy but poor boy worms his way into a ty...</td>\n",
              "    </tr>\n",
              "  </tbody>\n",
              "</table>\n",
              "<p>8807 rows × 12 columns</p>\n",
              "</div>\n",
              "      <button class=\"colab-df-convert\" onclick=\"convertToInteractive('df-5b369bfb-5708-46bf-8b2c-0f9ee08eebed')\"\n",
              "              title=\"Convert this dataframe to an interactive table.\"\n",
              "              style=\"display:none;\">\n",
              "        \n",
              "  <svg xmlns=\"http://www.w3.org/2000/svg\" height=\"24px\"viewBox=\"0 0 24 24\"\n",
              "       width=\"24px\">\n",
              "    <path d=\"M0 0h24v24H0V0z\" fill=\"none\"/>\n",
              "    <path d=\"M18.56 5.44l.94 2.06.94-2.06 2.06-.94-2.06-.94-.94-2.06-.94 2.06-2.06.94zm-11 1L8.5 8.5l.94-2.06 2.06-.94-2.06-.94L8.5 2.5l-.94 2.06-2.06.94zm10 10l.94 2.06.94-2.06 2.06-.94-2.06-.94-.94-2.06-.94 2.06-2.06.94z\"/><path d=\"M17.41 7.96l-1.37-1.37c-.4-.4-.92-.59-1.43-.59-.52 0-1.04.2-1.43.59L10.3 9.45l-7.72 7.72c-.78.78-.78 2.05 0 2.83L4 21.41c.39.39.9.59 1.41.59.51 0 1.02-.2 1.41-.59l7.78-7.78 2.81-2.81c.8-.78.8-2.07 0-2.86zM5.41 20L4 18.59l7.72-7.72 1.47 1.35L5.41 20z\"/>\n",
              "  </svg>\n",
              "      </button>\n",
              "      \n",
              "  <style>\n",
              "    .colab-df-container {\n",
              "      display:flex;\n",
              "      flex-wrap:wrap;\n",
              "      gap: 12px;\n",
              "    }\n",
              "\n",
              "    .colab-df-convert {\n",
              "      background-color: #E8F0FE;\n",
              "      border: none;\n",
              "      border-radius: 50%;\n",
              "      cursor: pointer;\n",
              "      display: none;\n",
              "      fill: #1967D2;\n",
              "      height: 32px;\n",
              "      padding: 0 0 0 0;\n",
              "      width: 32px;\n",
              "    }\n",
              "\n",
              "    .colab-df-convert:hover {\n",
              "      background-color: #E2EBFA;\n",
              "      box-shadow: 0px 1px 2px rgba(60, 64, 67, 0.3), 0px 1px 3px 1px rgba(60, 64, 67, 0.15);\n",
              "      fill: #174EA6;\n",
              "    }\n",
              "\n",
              "    [theme=dark] .colab-df-convert {\n",
              "      background-color: #3B4455;\n",
              "      fill: #D2E3FC;\n",
              "    }\n",
              "\n",
              "    [theme=dark] .colab-df-convert:hover {\n",
              "      background-color: #434B5C;\n",
              "      box-shadow: 0px 1px 3px 1px rgba(0, 0, 0, 0.15);\n",
              "      filter: drop-shadow(0px 1px 2px rgba(0, 0, 0, 0.3));\n",
              "      fill: #FFFFFF;\n",
              "    }\n",
              "  </style>\n",
              "\n",
              "      <script>\n",
              "        const buttonEl =\n",
              "          document.querySelector('#df-5b369bfb-5708-46bf-8b2c-0f9ee08eebed button.colab-df-convert');\n",
              "        buttonEl.style.display =\n",
              "          google.colab.kernel.accessAllowed ? 'block' : 'none';\n",
              "\n",
              "        async function convertToInteractive(key) {\n",
              "          const element = document.querySelector('#df-5b369bfb-5708-46bf-8b2c-0f9ee08eebed');\n",
              "          const dataTable =\n",
              "            await google.colab.kernel.invokeFunction('convertToInteractive',\n",
              "                                                     [key], {});\n",
              "          if (!dataTable) return;\n",
              "\n",
              "          const docLinkHtml = 'Like what you see? Visit the ' +\n",
              "            '<a target=\"_blank\" href=https://colab.research.google.com/notebooks/data_table.ipynb>data table notebook</a>'\n",
              "            + ' to learn more about interactive tables.';\n",
              "          element.innerHTML = '';\n",
              "          dataTable['output_type'] = 'display_data';\n",
              "          await google.colab.output.renderOutput(dataTable, element);\n",
              "          const docLink = document.createElement('div');\n",
              "          docLink.innerHTML = docLinkHtml;\n",
              "          element.appendChild(docLink);\n",
              "        }\n",
              "      </script>\n",
              "    </div>\n",
              "  </div>\n",
              "  "
            ]
          },
          "metadata": {},
          "execution_count": 9
        }
      ]
    },
    {
      "cell_type": "markdown",
      "source": [
        "## Task a): What are the contents of the first 7 rows of the data? \n",
        "\n",
        "Write in the code cell below the code to answer this task"
      ],
      "metadata": {
        "id": "d9_-PRJRLBci"
      }
    },
    {
      "cell_type": "code",
      "source": [
        "# Write code to view the first 7 rows of the new dataframe\n",
        "\n",
        "netflix_titles_df[:7]"
      ],
      "metadata": {
        "id": "rgW4tJjT2PeS",
        "outputId": "1999b8e7-d73a-4ecd-e93d-5630cd89a789",
        "colab": {
          "base_uri": "https://localhost:8080/",
          "height": 573
        }
      },
      "execution_count": null,
      "outputs": [
        {
          "output_type": "execute_result",
          "data": {
            "text/plain": [
              "  show_id     type                             title  \\\n",
              "0      s1    Movie              Dick Johnson Is Dead   \n",
              "1      s2  TV Show                     Blood & Water   \n",
              "2      s3  TV Show                         Ganglands   \n",
              "3      s4  TV Show             Jailbirds New Orleans   \n",
              "4      s5  TV Show                      Kota Factory   \n",
              "5      s6  TV Show                     Midnight Mass   \n",
              "6      s7    Movie  My Little Pony: A New Generation   \n",
              "\n",
              "                        director  \\\n",
              "0                Kirsten Johnson   \n",
              "1                            NaN   \n",
              "2                Julien Leclercq   \n",
              "3                            NaN   \n",
              "4                            NaN   \n",
              "5                  Mike Flanagan   \n",
              "6  Robert Cullen, José Luis Ucha   \n",
              "\n",
              "                                                cast        country  \\\n",
              "0                                                NaN  United States   \n",
              "1  Ama Qamata, Khosi Ngema, Gail Mabalane, Thaban...   South Africa   \n",
              "2  Sami Bouajila, Tracy Gotoas, Samuel Jouy, Nabi...            NaN   \n",
              "3                                                NaN            NaN   \n",
              "4  Mayur More, Jitendra Kumar, Ranjan Raj, Alam K...          India   \n",
              "5  Kate Siegel, Zach Gilford, Hamish Linklater, H...            NaN   \n",
              "6  Vanessa Hudgens, Kimiko Glenn, James Marsden, ...            NaN   \n",
              "\n",
              "           date_added  release_year rating   duration  \\\n",
              "0  September 25, 2021          2020  PG-13     90 min   \n",
              "1  September 24, 2021          2021  TV-MA  2 Seasons   \n",
              "2  September 24, 2021          2021  TV-MA   1 Season   \n",
              "3  September 24, 2021          2021  TV-MA   1 Season   \n",
              "4  September 24, 2021          2021  TV-MA  2 Seasons   \n",
              "5  September 24, 2021          2021  TV-MA   1 Season   \n",
              "6  September 24, 2021          2021     PG     91 min   \n",
              "\n",
              "                                           listed_in  \\\n",
              "0                                      Documentaries   \n",
              "1    International TV Shows, TV Dramas, TV Mysteries   \n",
              "2  Crime TV Shows, International TV Shows, TV Act...   \n",
              "3                             Docuseries, Reality TV   \n",
              "4  International TV Shows, Romantic TV Shows, TV ...   \n",
              "5                 TV Dramas, TV Horror, TV Mysteries   \n",
              "6                           Children & Family Movies   \n",
              "\n",
              "                                         description  \n",
              "0  As her father nears the end of his life, filmm...  \n",
              "1  After crossing paths at a party, a Cape Town t...  \n",
              "2  To protect his family from a powerful drug lor...  \n",
              "3  Feuds, flirtations and toilet talk go down amo...  \n",
              "4  In a city of coaching centers known to train I...  \n",
              "5  The arrival of a charismatic young priest brin...  \n",
              "6  Equestria's divided. But a bright-eyed hero be...  "
            ],
            "text/html": [
              "\n",
              "  <div id=\"df-86c50652-ca76-4652-8837-942cc7586aa0\">\n",
              "    <div class=\"colab-df-container\">\n",
              "      <div>\n",
              "<style scoped>\n",
              "    .dataframe tbody tr th:only-of-type {\n",
              "        vertical-align: middle;\n",
              "    }\n",
              "\n",
              "    .dataframe tbody tr th {\n",
              "        vertical-align: top;\n",
              "    }\n",
              "\n",
              "    .dataframe thead th {\n",
              "        text-align: right;\n",
              "    }\n",
              "</style>\n",
              "<table border=\"1\" class=\"dataframe\">\n",
              "  <thead>\n",
              "    <tr style=\"text-align: right;\">\n",
              "      <th></th>\n",
              "      <th>show_id</th>\n",
              "      <th>type</th>\n",
              "      <th>title</th>\n",
              "      <th>director</th>\n",
              "      <th>cast</th>\n",
              "      <th>country</th>\n",
              "      <th>date_added</th>\n",
              "      <th>release_year</th>\n",
              "      <th>rating</th>\n",
              "      <th>duration</th>\n",
              "      <th>listed_in</th>\n",
              "      <th>description</th>\n",
              "    </tr>\n",
              "  </thead>\n",
              "  <tbody>\n",
              "    <tr>\n",
              "      <th>0</th>\n",
              "      <td>s1</td>\n",
              "      <td>Movie</td>\n",
              "      <td>Dick Johnson Is Dead</td>\n",
              "      <td>Kirsten Johnson</td>\n",
              "      <td>NaN</td>\n",
              "      <td>United States</td>\n",
              "      <td>September 25, 2021</td>\n",
              "      <td>2020</td>\n",
              "      <td>PG-13</td>\n",
              "      <td>90 min</td>\n",
              "      <td>Documentaries</td>\n",
              "      <td>As her father nears the end of his life, filmm...</td>\n",
              "    </tr>\n",
              "    <tr>\n",
              "      <th>1</th>\n",
              "      <td>s2</td>\n",
              "      <td>TV Show</td>\n",
              "      <td>Blood &amp; Water</td>\n",
              "      <td>NaN</td>\n",
              "      <td>Ama Qamata, Khosi Ngema, Gail Mabalane, Thaban...</td>\n",
              "      <td>South Africa</td>\n",
              "      <td>September 24, 2021</td>\n",
              "      <td>2021</td>\n",
              "      <td>TV-MA</td>\n",
              "      <td>2 Seasons</td>\n",
              "      <td>International TV Shows, TV Dramas, TV Mysteries</td>\n",
              "      <td>After crossing paths at a party, a Cape Town t...</td>\n",
              "    </tr>\n",
              "    <tr>\n",
              "      <th>2</th>\n",
              "      <td>s3</td>\n",
              "      <td>TV Show</td>\n",
              "      <td>Ganglands</td>\n",
              "      <td>Julien Leclercq</td>\n",
              "      <td>Sami Bouajila, Tracy Gotoas, Samuel Jouy, Nabi...</td>\n",
              "      <td>NaN</td>\n",
              "      <td>September 24, 2021</td>\n",
              "      <td>2021</td>\n",
              "      <td>TV-MA</td>\n",
              "      <td>1 Season</td>\n",
              "      <td>Crime TV Shows, International TV Shows, TV Act...</td>\n",
              "      <td>To protect his family from a powerful drug lor...</td>\n",
              "    </tr>\n",
              "    <tr>\n",
              "      <th>3</th>\n",
              "      <td>s4</td>\n",
              "      <td>TV Show</td>\n",
              "      <td>Jailbirds New Orleans</td>\n",
              "      <td>NaN</td>\n",
              "      <td>NaN</td>\n",
              "      <td>NaN</td>\n",
              "      <td>September 24, 2021</td>\n",
              "      <td>2021</td>\n",
              "      <td>TV-MA</td>\n",
              "      <td>1 Season</td>\n",
              "      <td>Docuseries, Reality TV</td>\n",
              "      <td>Feuds, flirtations and toilet talk go down amo...</td>\n",
              "    </tr>\n",
              "    <tr>\n",
              "      <th>4</th>\n",
              "      <td>s5</td>\n",
              "      <td>TV Show</td>\n",
              "      <td>Kota Factory</td>\n",
              "      <td>NaN</td>\n",
              "      <td>Mayur More, Jitendra Kumar, Ranjan Raj, Alam K...</td>\n",
              "      <td>India</td>\n",
              "      <td>September 24, 2021</td>\n",
              "      <td>2021</td>\n",
              "      <td>TV-MA</td>\n",
              "      <td>2 Seasons</td>\n",
              "      <td>International TV Shows, Romantic TV Shows, TV ...</td>\n",
              "      <td>In a city of coaching centers known to train I...</td>\n",
              "    </tr>\n",
              "    <tr>\n",
              "      <th>5</th>\n",
              "      <td>s6</td>\n",
              "      <td>TV Show</td>\n",
              "      <td>Midnight Mass</td>\n",
              "      <td>Mike Flanagan</td>\n",
              "      <td>Kate Siegel, Zach Gilford, Hamish Linklater, H...</td>\n",
              "      <td>NaN</td>\n",
              "      <td>September 24, 2021</td>\n",
              "      <td>2021</td>\n",
              "      <td>TV-MA</td>\n",
              "      <td>1 Season</td>\n",
              "      <td>TV Dramas, TV Horror, TV Mysteries</td>\n",
              "      <td>The arrival of a charismatic young priest brin...</td>\n",
              "    </tr>\n",
              "    <tr>\n",
              "      <th>6</th>\n",
              "      <td>s7</td>\n",
              "      <td>Movie</td>\n",
              "      <td>My Little Pony: A New Generation</td>\n",
              "      <td>Robert Cullen, José Luis Ucha</td>\n",
              "      <td>Vanessa Hudgens, Kimiko Glenn, James Marsden, ...</td>\n",
              "      <td>NaN</td>\n",
              "      <td>September 24, 2021</td>\n",
              "      <td>2021</td>\n",
              "      <td>PG</td>\n",
              "      <td>91 min</td>\n",
              "      <td>Children &amp; Family Movies</td>\n",
              "      <td>Equestria's divided. But a bright-eyed hero be...</td>\n",
              "    </tr>\n",
              "  </tbody>\n",
              "</table>\n",
              "</div>\n",
              "      <button class=\"colab-df-convert\" onclick=\"convertToInteractive('df-86c50652-ca76-4652-8837-942cc7586aa0')\"\n",
              "              title=\"Convert this dataframe to an interactive table.\"\n",
              "              style=\"display:none;\">\n",
              "        \n",
              "  <svg xmlns=\"http://www.w3.org/2000/svg\" height=\"24px\"viewBox=\"0 0 24 24\"\n",
              "       width=\"24px\">\n",
              "    <path d=\"M0 0h24v24H0V0z\" fill=\"none\"/>\n",
              "    <path d=\"M18.56 5.44l.94 2.06.94-2.06 2.06-.94-2.06-.94-.94-2.06-.94 2.06-2.06.94zm-11 1L8.5 8.5l.94-2.06 2.06-.94-2.06-.94L8.5 2.5l-.94 2.06-2.06.94zm10 10l.94 2.06.94-2.06 2.06-.94-2.06-.94-.94-2.06-.94 2.06-2.06.94z\"/><path d=\"M17.41 7.96l-1.37-1.37c-.4-.4-.92-.59-1.43-.59-.52 0-1.04.2-1.43.59L10.3 9.45l-7.72 7.72c-.78.78-.78 2.05 0 2.83L4 21.41c.39.39.9.59 1.41.59.51 0 1.02-.2 1.41-.59l7.78-7.78 2.81-2.81c.8-.78.8-2.07 0-2.86zM5.41 20L4 18.59l7.72-7.72 1.47 1.35L5.41 20z\"/>\n",
              "  </svg>\n",
              "      </button>\n",
              "      \n",
              "  <style>\n",
              "    .colab-df-container {\n",
              "      display:flex;\n",
              "      flex-wrap:wrap;\n",
              "      gap: 12px;\n",
              "    }\n",
              "\n",
              "    .colab-df-convert {\n",
              "      background-color: #E8F0FE;\n",
              "      border: none;\n",
              "      border-radius: 50%;\n",
              "      cursor: pointer;\n",
              "      display: none;\n",
              "      fill: #1967D2;\n",
              "      height: 32px;\n",
              "      padding: 0 0 0 0;\n",
              "      width: 32px;\n",
              "    }\n",
              "\n",
              "    .colab-df-convert:hover {\n",
              "      background-color: #E2EBFA;\n",
              "      box-shadow: 0px 1px 2px rgba(60, 64, 67, 0.3), 0px 1px 3px 1px rgba(60, 64, 67, 0.15);\n",
              "      fill: #174EA6;\n",
              "    }\n",
              "\n",
              "    [theme=dark] .colab-df-convert {\n",
              "      background-color: #3B4455;\n",
              "      fill: #D2E3FC;\n",
              "    }\n",
              "\n",
              "    [theme=dark] .colab-df-convert:hover {\n",
              "      background-color: #434B5C;\n",
              "      box-shadow: 0px 1px 3px 1px rgba(0, 0, 0, 0.15);\n",
              "      filter: drop-shadow(0px 1px 2px rgba(0, 0, 0, 0.3));\n",
              "      fill: #FFFFFF;\n",
              "    }\n",
              "  </style>\n",
              "\n",
              "      <script>\n",
              "        const buttonEl =\n",
              "          document.querySelector('#df-86c50652-ca76-4652-8837-942cc7586aa0 button.colab-df-convert');\n",
              "        buttonEl.style.display =\n",
              "          google.colab.kernel.accessAllowed ? 'block' : 'none';\n",
              "\n",
              "        async function convertToInteractive(key) {\n",
              "          const element = document.querySelector('#df-86c50652-ca76-4652-8837-942cc7586aa0');\n",
              "          const dataTable =\n",
              "            await google.colab.kernel.invokeFunction('convertToInteractive',\n",
              "                                                     [key], {});\n",
              "          if (!dataTable) return;\n",
              "\n",
              "          const docLinkHtml = 'Like what you see? Visit the ' +\n",
              "            '<a target=\"_blank\" href=https://colab.research.google.com/notebooks/data_table.ipynb>data table notebook</a>'\n",
              "            + ' to learn more about interactive tables.';\n",
              "          element.innerHTML = '';\n",
              "          dataTable['output_type'] = 'display_data';\n",
              "          await google.colab.output.renderOutput(dataTable, element);\n",
              "          const docLink = document.createElement('div');\n",
              "          docLink.innerHTML = docLinkHtml;\n",
              "          element.appendChild(docLink);\n",
              "        }\n",
              "      </script>\n",
              "    </div>\n",
              "  </div>\n",
              "  "
            ]
          },
          "metadata": {},
          "execution_count": 10
        }
      ]
    },
    {
      "cell_type": "markdown",
      "metadata": {
        "id": "1e8yg_wrnlqJ"
      },
      "source": [
        "## A Second look at netflix_titles"
      ]
    },
    {
      "cell_type": "markdown",
      "metadata": {
        "id": "TolJ-vsGm0jY"
      },
      "source": [
        "Consider the columns of this data set:"
      ]
    },
    {
      "cell_type": "code",
      "metadata": {
        "id": "J1I1YrZ7nNYl",
        "outputId": "d9f2d862-90f2-4e53-d4fc-f09bc883ed7d",
        "colab": {
          "base_uri": "https://localhost:8080/"
        }
      },
      "source": [
        "# To view the column names of a dataframe, we can use the .columns attribute\n",
        "netflix_titles_df.columns\n",
        "# In our case the column names can be easily identified \n",
        "# by simply glancing along the top of the dataframe. \n",
        "# In many cases however, the number of columns may be extremely large.\n",
        "# Being able to list them out can be helpful in such situations."
      ],
      "execution_count": null,
      "outputs": [
        {
          "output_type": "execute_result",
          "data": {
            "text/plain": [
              "Index(['show_id', 'type', 'title', 'director', 'cast', 'country', 'date_added',\n",
              "       'release_year', 'rating', 'duration', 'listed_in', 'description'],\n",
              "      dtype='object')"
            ]
          },
          "metadata": {},
          "execution_count": 11
        }
      ]
    },
    {
      "cell_type": "code",
      "metadata": {
        "id": "JDyQ9fdZ2toW",
        "outputId": "baa60b4d-7c48-4207-eae6-1200beeee7ce",
        "colab": {
          "base_uri": "https://localhost:8080/"
        }
      },
      "source": [
        "# It can also be useful to see how the data for each variable is stored\n",
        "# (its \"data type\"). In pandas, \"object\" datatypes are usually string data,\n",
        "# potentially with some other things mixed in.\n",
        "netflix_titles_df.dtypes"
      ],
      "execution_count": null,
      "outputs": [
        {
          "output_type": "execute_result",
          "data": {
            "text/plain": [
              "show_id         object\n",
              "type            object\n",
              "title           object\n",
              "director        object\n",
              "cast            object\n",
              "country         object\n",
              "date_added      object\n",
              "release_year     int64\n",
              "rating          object\n",
              "duration        object\n",
              "listed_in       object\n",
              "description     object\n",
              "dtype: object"
            ]
          },
          "metadata": {},
          "execution_count": 12
        }
      ]
    },
    {
      "cell_type": "code",
      "source": [
        "netflix_titles_df.head()"
      ],
      "metadata": {
        "id": "9FTBbZno2V6l",
        "outputId": "194d5a55-ed37-4d6c-ae3b-6e7702a11bfb",
        "colab": {
          "base_uri": "https://localhost:8080/",
          "height": 406
        }
      },
      "execution_count": null,
      "outputs": [
        {
          "output_type": "execute_result",
          "data": {
            "text/plain": [
              "  show_id     type                  title         director  \\\n",
              "0      s1    Movie   Dick Johnson Is Dead  Kirsten Johnson   \n",
              "1      s2  TV Show          Blood & Water              NaN   \n",
              "2      s3  TV Show              Ganglands  Julien Leclercq   \n",
              "3      s4  TV Show  Jailbirds New Orleans              NaN   \n",
              "4      s5  TV Show           Kota Factory              NaN   \n",
              "\n",
              "                                                cast        country  \\\n",
              "0                                                NaN  United States   \n",
              "1  Ama Qamata, Khosi Ngema, Gail Mabalane, Thaban...   South Africa   \n",
              "2  Sami Bouajila, Tracy Gotoas, Samuel Jouy, Nabi...            NaN   \n",
              "3                                                NaN            NaN   \n",
              "4  Mayur More, Jitendra Kumar, Ranjan Raj, Alam K...          India   \n",
              "\n",
              "           date_added  release_year rating   duration  \\\n",
              "0  September 25, 2021          2020  PG-13     90 min   \n",
              "1  September 24, 2021          2021  TV-MA  2 Seasons   \n",
              "2  September 24, 2021          2021  TV-MA   1 Season   \n",
              "3  September 24, 2021          2021  TV-MA   1 Season   \n",
              "4  September 24, 2021          2021  TV-MA  2 Seasons   \n",
              "\n",
              "                                           listed_in  \\\n",
              "0                                      Documentaries   \n",
              "1    International TV Shows, TV Dramas, TV Mysteries   \n",
              "2  Crime TV Shows, International TV Shows, TV Act...   \n",
              "3                             Docuseries, Reality TV   \n",
              "4  International TV Shows, Romantic TV Shows, TV ...   \n",
              "\n",
              "                                         description  \n",
              "0  As her father nears the end of his life, filmm...  \n",
              "1  After crossing paths at a party, a Cape Town t...  \n",
              "2  To protect his family from a powerful drug lor...  \n",
              "3  Feuds, flirtations and toilet talk go down amo...  \n",
              "4  In a city of coaching centers known to train I...  "
            ],
            "text/html": [
              "\n",
              "  <div id=\"df-c64469ca-1501-4cd4-afc4-11be4cbc9ca0\">\n",
              "    <div class=\"colab-df-container\">\n",
              "      <div>\n",
              "<style scoped>\n",
              "    .dataframe tbody tr th:only-of-type {\n",
              "        vertical-align: middle;\n",
              "    }\n",
              "\n",
              "    .dataframe tbody tr th {\n",
              "        vertical-align: top;\n",
              "    }\n",
              "\n",
              "    .dataframe thead th {\n",
              "        text-align: right;\n",
              "    }\n",
              "</style>\n",
              "<table border=\"1\" class=\"dataframe\">\n",
              "  <thead>\n",
              "    <tr style=\"text-align: right;\">\n",
              "      <th></th>\n",
              "      <th>show_id</th>\n",
              "      <th>type</th>\n",
              "      <th>title</th>\n",
              "      <th>director</th>\n",
              "      <th>cast</th>\n",
              "      <th>country</th>\n",
              "      <th>date_added</th>\n",
              "      <th>release_year</th>\n",
              "      <th>rating</th>\n",
              "      <th>duration</th>\n",
              "      <th>listed_in</th>\n",
              "      <th>description</th>\n",
              "    </tr>\n",
              "  </thead>\n",
              "  <tbody>\n",
              "    <tr>\n",
              "      <th>0</th>\n",
              "      <td>s1</td>\n",
              "      <td>Movie</td>\n",
              "      <td>Dick Johnson Is Dead</td>\n",
              "      <td>Kirsten Johnson</td>\n",
              "      <td>NaN</td>\n",
              "      <td>United States</td>\n",
              "      <td>September 25, 2021</td>\n",
              "      <td>2020</td>\n",
              "      <td>PG-13</td>\n",
              "      <td>90 min</td>\n",
              "      <td>Documentaries</td>\n",
              "      <td>As her father nears the end of his life, filmm...</td>\n",
              "    </tr>\n",
              "    <tr>\n",
              "      <th>1</th>\n",
              "      <td>s2</td>\n",
              "      <td>TV Show</td>\n",
              "      <td>Blood &amp; Water</td>\n",
              "      <td>NaN</td>\n",
              "      <td>Ama Qamata, Khosi Ngema, Gail Mabalane, Thaban...</td>\n",
              "      <td>South Africa</td>\n",
              "      <td>September 24, 2021</td>\n",
              "      <td>2021</td>\n",
              "      <td>TV-MA</td>\n",
              "      <td>2 Seasons</td>\n",
              "      <td>International TV Shows, TV Dramas, TV Mysteries</td>\n",
              "      <td>After crossing paths at a party, a Cape Town t...</td>\n",
              "    </tr>\n",
              "    <tr>\n",
              "      <th>2</th>\n",
              "      <td>s3</td>\n",
              "      <td>TV Show</td>\n",
              "      <td>Ganglands</td>\n",
              "      <td>Julien Leclercq</td>\n",
              "      <td>Sami Bouajila, Tracy Gotoas, Samuel Jouy, Nabi...</td>\n",
              "      <td>NaN</td>\n",
              "      <td>September 24, 2021</td>\n",
              "      <td>2021</td>\n",
              "      <td>TV-MA</td>\n",
              "      <td>1 Season</td>\n",
              "      <td>Crime TV Shows, International TV Shows, TV Act...</td>\n",
              "      <td>To protect his family from a powerful drug lor...</td>\n",
              "    </tr>\n",
              "    <tr>\n",
              "      <th>3</th>\n",
              "      <td>s4</td>\n",
              "      <td>TV Show</td>\n",
              "      <td>Jailbirds New Orleans</td>\n",
              "      <td>NaN</td>\n",
              "      <td>NaN</td>\n",
              "      <td>NaN</td>\n",
              "      <td>September 24, 2021</td>\n",
              "      <td>2021</td>\n",
              "      <td>TV-MA</td>\n",
              "      <td>1 Season</td>\n",
              "      <td>Docuseries, Reality TV</td>\n",
              "      <td>Feuds, flirtations and toilet talk go down amo...</td>\n",
              "    </tr>\n",
              "    <tr>\n",
              "      <th>4</th>\n",
              "      <td>s5</td>\n",
              "      <td>TV Show</td>\n",
              "      <td>Kota Factory</td>\n",
              "      <td>NaN</td>\n",
              "      <td>Mayur More, Jitendra Kumar, Ranjan Raj, Alam K...</td>\n",
              "      <td>India</td>\n",
              "      <td>September 24, 2021</td>\n",
              "      <td>2021</td>\n",
              "      <td>TV-MA</td>\n",
              "      <td>2 Seasons</td>\n",
              "      <td>International TV Shows, Romantic TV Shows, TV ...</td>\n",
              "      <td>In a city of coaching centers known to train I...</td>\n",
              "    </tr>\n",
              "  </tbody>\n",
              "</table>\n",
              "</div>\n",
              "      <button class=\"colab-df-convert\" onclick=\"convertToInteractive('df-c64469ca-1501-4cd4-afc4-11be4cbc9ca0')\"\n",
              "              title=\"Convert this dataframe to an interactive table.\"\n",
              "              style=\"display:none;\">\n",
              "        \n",
              "  <svg xmlns=\"http://www.w3.org/2000/svg\" height=\"24px\"viewBox=\"0 0 24 24\"\n",
              "       width=\"24px\">\n",
              "    <path d=\"M0 0h24v24H0V0z\" fill=\"none\"/>\n",
              "    <path d=\"M18.56 5.44l.94 2.06.94-2.06 2.06-.94-2.06-.94-.94-2.06-.94 2.06-2.06.94zm-11 1L8.5 8.5l.94-2.06 2.06-.94-2.06-.94L8.5 2.5l-.94 2.06-2.06.94zm10 10l.94 2.06.94-2.06 2.06-.94-2.06-.94-.94-2.06-.94 2.06-2.06.94z\"/><path d=\"M17.41 7.96l-1.37-1.37c-.4-.4-.92-.59-1.43-.59-.52 0-1.04.2-1.43.59L10.3 9.45l-7.72 7.72c-.78.78-.78 2.05 0 2.83L4 21.41c.39.39.9.59 1.41.59.51 0 1.02-.2 1.41-.59l7.78-7.78 2.81-2.81c.8-.78.8-2.07 0-2.86zM5.41 20L4 18.59l7.72-7.72 1.47 1.35L5.41 20z\"/>\n",
              "  </svg>\n",
              "      </button>\n",
              "      \n",
              "  <style>\n",
              "    .colab-df-container {\n",
              "      display:flex;\n",
              "      flex-wrap:wrap;\n",
              "      gap: 12px;\n",
              "    }\n",
              "\n",
              "    .colab-df-convert {\n",
              "      background-color: #E8F0FE;\n",
              "      border: none;\n",
              "      border-radius: 50%;\n",
              "      cursor: pointer;\n",
              "      display: none;\n",
              "      fill: #1967D2;\n",
              "      height: 32px;\n",
              "      padding: 0 0 0 0;\n",
              "      width: 32px;\n",
              "    }\n",
              "\n",
              "    .colab-df-convert:hover {\n",
              "      background-color: #E2EBFA;\n",
              "      box-shadow: 0px 1px 2px rgba(60, 64, 67, 0.3), 0px 1px 3px 1px rgba(60, 64, 67, 0.15);\n",
              "      fill: #174EA6;\n",
              "    }\n",
              "\n",
              "    [theme=dark] .colab-df-convert {\n",
              "      background-color: #3B4455;\n",
              "      fill: #D2E3FC;\n",
              "    }\n",
              "\n",
              "    [theme=dark] .colab-df-convert:hover {\n",
              "      background-color: #434B5C;\n",
              "      box-shadow: 0px 1px 3px 1px rgba(0, 0, 0, 0.15);\n",
              "      filter: drop-shadow(0px 1px 2px rgba(0, 0, 0, 0.3));\n",
              "      fill: #FFFFFF;\n",
              "    }\n",
              "  </style>\n",
              "\n",
              "      <script>\n",
              "        const buttonEl =\n",
              "          document.querySelector('#df-c64469ca-1501-4cd4-afc4-11be4cbc9ca0 button.colab-df-convert');\n",
              "        buttonEl.style.display =\n",
              "          google.colab.kernel.accessAllowed ? 'block' : 'none';\n",
              "\n",
              "        async function convertToInteractive(key) {\n",
              "          const element = document.querySelector('#df-c64469ca-1501-4cd4-afc4-11be4cbc9ca0');\n",
              "          const dataTable =\n",
              "            await google.colab.kernel.invokeFunction('convertToInteractive',\n",
              "                                                     [key], {});\n",
              "          if (!dataTable) return;\n",
              "\n",
              "          const docLinkHtml = 'Like what you see? Visit the ' +\n",
              "            '<a target=\"_blank\" href=https://colab.research.google.com/notebooks/data_table.ipynb>data table notebook</a>'\n",
              "            + ' to learn more about interactive tables.';\n",
              "          element.innerHTML = '';\n",
              "          dataTable['output_type'] = 'display_data';\n",
              "          await google.colab.output.renderOutput(dataTable, element);\n",
              "          const docLink = document.createElement('div');\n",
              "          docLink.innerHTML = docLinkHtml;\n",
              "          element.appendChild(docLink);\n",
              "        }\n",
              "      </script>\n",
              "    </div>\n",
              "  </div>\n",
              "  "
            ]
          },
          "metadata": {},
          "execution_count": 13
        }
      ]
    },
    {
      "cell_type": "markdown",
      "source": [
        "## Task b): Rows and Columns"
      ],
      "metadata": {
        "id": "vekUL1tRtrXS"
      }
    },
    {
      "cell_type": "markdown",
      "source": [
        "Write in the cells below code to obtain and print the number of rows and columns on the dataframe using shape"
      ],
      "metadata": {
        "id": "vnS8920bzirI"
      }
    },
    {
      "cell_type": "code",
      "source": [
        "# How many entries/rows in the dataframe?\n",
        "netflix_titles_df.shape[0]"
      ],
      "metadata": {
        "id": "NB9E5gzeYTbg",
        "colab": {
          "base_uri": "https://localhost:8080/"
        },
        "outputId": "f2f5a0a1-1c5c-4e41-dbc7-0e3ac847ea24"
      },
      "execution_count": null,
      "outputs": [
        {
          "output_type": "execute_result",
          "data": {
            "text/plain": [
              "8807"
            ]
          },
          "metadata": {},
          "execution_count": 14
        }
      ]
    },
    {
      "cell_type": "code",
      "source": [
        "# How many columns in the dataframe?\n",
        "netflix_titles_df.shape[1]"
      ],
      "metadata": {
        "id": "aQVds9nJz0rm",
        "colab": {
          "base_uri": "https://localhost:8080/"
        },
        "outputId": "8cad1094-2b41-42be-a7f6-d2dfee14dd62"
      },
      "execution_count": null,
      "outputs": [
        {
          "output_type": "execute_result",
          "data": {
            "text/plain": [
              "12"
            ]
          },
          "metadata": {},
          "execution_count": 15
        }
      ]
    },
    {
      "cell_type": "markdown",
      "source": [
        "# Alternatively\n",
        "In addition to: **shape[0]**, you can use len() as shown below to get the number of rows or data points in a dataset"
      ],
      "metadata": {
        "id": "rfmgSW4nz8GO"
      }
    },
    {
      "cell_type": "code",
      "source": [
        "len(netflix_titles_df)"
      ],
      "metadata": {
        "id": "poR_kU9l_kzG",
        "colab": {
          "base_uri": "https://localhost:8080/"
        },
        "outputId": "f8ae2354-0e0c-4fe6-8967-489ed9a4d443"
      },
      "execution_count": null,
      "outputs": [
        {
          "output_type": "execute_result",
          "data": {
            "text/plain": [
              "8807"
            ]
          },
          "metadata": {},
          "execution_count": 16
        }
      ]
    },
    {
      "cell_type": "markdown",
      "source": [
        "# Task c): How many missing values are there in the 'rating' column?"
      ],
      "metadata": {
        "id": "Ok6s9F7uL6ER"
      }
    },
    {
      "cell_type": "markdown",
      "source": [
        "Complete the code cells below to answer this question:\n",
        "\n",
        "1. Fix the first code cell to select only the **'rating'** column\n",
        "2. Print the result form step 1\n",
        "3. call the .isnull() method on the ratings columns and print the result\n",
        "4. Use sum on the result from step 3\n"
      ],
      "metadata": {
        "id": "funac92zL98A"
      }
    },
    {
      "cell_type": "code",
      "source": [
        "# 1) Make a new variable to store the 'rating' column\n",
        "ratings = netflix_titles_df['director']"
      ],
      "metadata": {
        "id": "mpyi3kf3Y-SF"
      },
      "execution_count": null,
      "outputs": []
    },
    {
      "cell_type": "code",
      "source": [
        "# 2) print the rating variable\n",
        "print(ratings)"
      ],
      "metadata": {
        "id": "lD53AdwVMm7m",
        "colab": {
          "base_uri": "https://localhost:8080/"
        },
        "outputId": "3f260627-9117-4d19-fc28-85b0b807cd0a"
      },
      "execution_count": null,
      "outputs": [
        {
          "output_type": "stream",
          "name": "stdout",
          "text": [
            "0       Kirsten Johnson\n",
            "1                   NaN\n",
            "2       Julien Leclercq\n",
            "3                   NaN\n",
            "4                   NaN\n",
            "             ...       \n",
            "8802      David Fincher\n",
            "8803                NaN\n",
            "8804    Ruben Fleischer\n",
            "8805       Peter Hewitt\n",
            "8806        Mozez Singh\n",
            "Name: director, Length: 8807, dtype: object\n"
          ]
        }
      ]
    },
    {
      "cell_type": "code",
      "source": [
        "# 3) Call the isnull() method on the ratings variable and assign it to the result variable by \n",
        "#    writing the variable named followed by a dot (.), followed by isnull() after the asssignment (=)\n",
        "result = ratings.isnull()\n",
        "print(result)   # Prints the content of the result variable"
      ],
      "metadata": {
        "id": "Y6nXasReT_mt",
        "colab": {
          "base_uri": "https://localhost:8080/"
        },
        "outputId": "a1062c4e-3433-41b6-e04a-b34eb2132e95"
      },
      "execution_count": null,
      "outputs": [
        {
          "output_type": "stream",
          "name": "stdout",
          "text": [
            "0       False\n",
            "1        True\n",
            "2       False\n",
            "3        True\n",
            "4        True\n",
            "        ...  \n",
            "8802    False\n",
            "8803     True\n",
            "8804    False\n",
            "8805    False\n",
            "8806    False\n",
            "Name: director, Length: 8807, dtype: bool\n"
          ]
        }
      ]
    },
    {
      "cell_type": "code",
      "source": [
        "# Python treats True = 1 and False = 0 \n",
        "# Therefore, we can use the sum function to count all the Null entries by puting the name of the variable result in between the brackets\n",
        "ratings.isnull().sum()"
      ],
      "metadata": {
        "id": "AjNPtT5W2fbZ",
        "colab": {
          "base_uri": "https://localhost:8080/"
        },
        "outputId": "666395e4-e065-4b8d-a8fc-d7d33137c7ed"
      },
      "execution_count": null,
      "outputs": [
        {
          "output_type": "execute_result",
          "data": {
            "text/plain": [
              "2634"
            ]
          },
          "metadata": {},
          "execution_count": 20
        }
      ]
    },
    {
      "cell_type": "markdown",
      "source": [
        "# Task d): How many missing values are in there in the 'country' column? "
      ],
      "metadata": {
        "id": "pHEai594VGPu"
      }
    },
    {
      "cell_type": "markdown",
      "source": [
        "Use the code cell below to write the code to answer this task and print the result to console"
      ],
      "metadata": {
        "id": "Ts6F6H24VLQV"
      }
    },
    {
      "cell_type": "code",
      "source": [
        "# Write your code for Task d on this code cell\n",
        "netflix_titles_df['country'].isnull().sum()\n"
      ],
      "metadata": {
        "id": "i7tYJHta9tbO",
        "colab": {
          "base_uri": "https://localhost:8080/"
        },
        "outputId": "ee50fa76-c0b1-40af-b23c-182d4135d629"
      },
      "execution_count": null,
      "outputs": [
        {
          "output_type": "execute_result",
          "data": {
            "text/plain": [
              "831"
            ]
          },
          "metadata": {},
          "execution_count": 21
        }
      ]
    },
    {
      "cell_type": "markdown",
      "source": [
        "# Problem 1): What percentage of all entries have an entry for director? "
      ],
      "metadata": {
        "id": "YK3POghwVbgW"
      }
    },
    {
      "cell_type": "code",
      "source": [
        "# Write code to answer problem 1 on this code cell\n",
        "\n",
        "director_pct = (netflix_titles_df['director'].count() / len(netflix_titles_df)) * 100\n",
        "\n",
        "director_pct\n"
      ],
      "metadata": {
        "id": "BC_9DDlf-Avg",
        "colab": {
          "base_uri": "https://localhost:8080/"
        },
        "outputId": "102ba1cd-2f61-4f87-9790-8fc8b8420144"
      },
      "execution_count": null,
      "outputs": [
        {
          "output_type": "execute_result",
          "data": {
            "text/plain": [
              "70.09197229476553"
            ]
          },
          "metadata": {},
          "execution_count": 22
        }
      ]
    },
    {
      "cell_type": "markdown",
      "source": [
        "# Unique Entries"
      ],
      "metadata": {
        "id": "PWoZ3JjYVo9-"
      }
    },
    {
      "cell_type": "markdown",
      "source": [
        "To see the list of unique entries in the type column we can first filter to get only the 'type' column and call .unique on that as shown below"
      ],
      "metadata": {
        "id": "NF0EUsNhV1ex"
      }
    },
    {
      "cell_type": "code",
      "source": [
        "netflix_titles_df[\"type\"].unique()"
      ],
      "metadata": {
        "id": "r7yKrTqy-zLj",
        "colab": {
          "base_uri": "https://localhost:8080/"
        },
        "outputId": "47dd3f5e-e892-441b-f548-c0b2ddda2581"
      },
      "execution_count": null,
      "outputs": [
        {
          "output_type": "execute_result",
          "data": {
            "text/plain": [
              "array(['Movie', 'TV Show'], dtype=object)"
            ]
          },
          "metadata": {},
          "execution_count": 23
        }
      ]
    },
    {
      "cell_type": "markdown",
      "source": [
        "# Task e): What is the list of unique countries in the netflix_titles_df dataframe? "
      ],
      "metadata": {
        "id": "w9l7FuBmV95W"
      }
    },
    {
      "cell_type": "code",
      "source": [
        "# Write code to answer task e on this cell\n",
        "unique_countries = netflix_titles_df['country'].unique()\n",
        "unique_countries"
      ],
      "metadata": {
        "id": "xT0xLAuEZHrg",
        "colab": {
          "base_uri": "https://localhost:8080/"
        },
        "outputId": "9fdf8c83-c5ff-4ae5-ce38-2b62316b4b8c"
      },
      "execution_count": null,
      "outputs": [
        {
          "output_type": "execute_result",
          "data": {
            "text/plain": [
              "array(['United States', 'South Africa', nan, 'India',\n",
              "       'United States, Ghana, Burkina Faso, United Kingdom, Germany, Ethiopia',\n",
              "       'United Kingdom', 'Germany, Czech Republic', 'Mexico', 'Turkey',\n",
              "       'Australia', 'United States, India, France', 'Finland',\n",
              "       'China, Canada, United States',\n",
              "       'South Africa, United States, Japan', 'Nigeria', 'Japan',\n",
              "       'Spain, United States', 'France', 'Belgium',\n",
              "       'United Kingdom, United States', 'United States, United Kingdom',\n",
              "       'France, United States', 'South Korea', 'Spain',\n",
              "       'United States, Singapore', 'United Kingdom, Australia, France',\n",
              "       'United Kingdom, Australia, France, United States',\n",
              "       'United States, Canada', 'Germany, United States',\n",
              "       'South Africa, United States', 'United States, Mexico',\n",
              "       'United States, Italy, France, Japan',\n",
              "       'United States, Italy, Romania, United Kingdom',\n",
              "       'Australia, United States', 'Argentina, Venezuela',\n",
              "       'United States, United Kingdom, Canada', 'China, Hong Kong',\n",
              "       'Russia', 'Canada', 'Hong Kong', 'United States, China, Hong Kong',\n",
              "       'Italy, United States', 'United States, Germany',\n",
              "       'United Kingdom, Canada, United States', ', South Korea',\n",
              "       'Ireland', 'India, Nepal',\n",
              "       'New Zealand, Australia, France, United States', 'Italy',\n",
              "       'Italy, Brazil, Greece', 'Argentina', 'Jordan', 'Colombia',\n",
              "       'United States, Japan', 'Belgium, United Kingdom',\n",
              "       'Switzerland, United Kingdom, Australia', 'Israel, United States',\n",
              "       'Canada, United States', 'Brazil', 'Argentina, Spain', 'Taiwan',\n",
              "       'United States, Nigeria', 'Bulgaria, United States',\n",
              "       'Spain, United Kingdom, United States', 'United States, China',\n",
              "       'United States, France',\n",
              "       'Spain, France, United Kingdom, United States',\n",
              "       ', France, Algeria', 'Poland', 'Germany',\n",
              "       'France, Israel, Germany, United States, United Kingdom',\n",
              "       'New Zealand', 'Saudi Arabia', 'Thailand', 'Indonesia',\n",
              "       'Egypt, Denmark, Germany', 'United States, Switzerland',\n",
              "       'Hong Kong, Canada, United States', 'Kuwait, United States',\n",
              "       'France, Canada, United States, Spain',\n",
              "       'France, Netherlands, Singapore', 'France, Belgium',\n",
              "       'Ireland, United States, United Kingdom', 'Egypt', 'Malaysia',\n",
              "       'Israel', 'Australia, New Zealand', 'United Kingdom, Germany',\n",
              "       'Belgium, Netherlands', 'South Korea, Czech Republic',\n",
              "       'Australia, Germany', 'Vietnam', 'United Kingdom, Belgium',\n",
              "       'United Kingdom, Australia, United States',\n",
              "       'France, Japan, United States',\n",
              "       'United Kingdom, Germany, Spain, United States',\n",
              "       'United Kingdom, United States, France, Italy',\n",
              "       'United States, Germany, Canada',\n",
              "       'United States, France, Italy, United Kingdom',\n",
              "       'United States, United Kingdom, Germany, Hungary',\n",
              "       'United States, New Zealand', 'Sweden', 'China', 'Lebanon',\n",
              "       'Romania', 'Finland, Germany', 'Lebanon, Syria', 'Philippines',\n",
              "       'Iceland', 'Denmark', 'United States, India',\n",
              "       'Philippines, Singapore, Indonesia',\n",
              "       'China, United States, Canada', 'Lebanon, United Arab Emirates',\n",
              "       'Canada, United States, Denmark', 'United Arab Emirates',\n",
              "       'Mexico, France, Colombia', 'Netherlands',\n",
              "       'Germany, United States, France', 'United States, Bulgaria',\n",
              "       'United Kingdom, France, Germany, United States',\n",
              "       'Norway, Denmark', 'Syria, France, Lebanon, Qatar',\n",
              "       'United States, Czech Republic', 'Mauritius',\n",
              "       'Canada, South Africa', 'Austria', 'Mexico, Brazil',\n",
              "       'Germany, France', 'Mexico, United States',\n",
              "       'United Kingdom, France, Spain, United States',\n",
              "       'United States, Australia',\n",
              "       'United States, United Kingdom, France', 'United States, Russia',\n",
              "       'United States, United Kingdom, New Zealand',\n",
              "       'Australia, United Kingdom', 'Canada, Nigeria, United States',\n",
              "       'France, United States, United Kingdom, Canada',\n",
              "       'France, United Kingdom', 'India, United Kingdom',\n",
              "       'Canada, United States, Mexico',\n",
              "       'United Kingdom, Germany, United States',\n",
              "       'Czech Republic, United Kingdom, United States',\n",
              "       'China, United Kingdom', 'Italy, United Kingdom', 'China, Taiwan',\n",
              "       'United States, Brazil, Japan, Spain, India',\n",
              "       'United States, China, United Kingdom', 'Cameroon',\n",
              "       'Lebanon, Palestine, Denmark, Qatar', 'Japan, United States',\n",
              "       'Uruguay, Germany', 'Egypt, Saudi Arabia',\n",
              "       'United Kingdom, France, Poland, Germany, United States',\n",
              "       'Ireland, Switzerland, United Kingdom, France, United States',\n",
              "       'United Kingdom, South Africa, France',\n",
              "       'Ireland, United Kingdom, France, Germany',\n",
              "       'Russia, United States', 'United Kingdom, United States, France',\n",
              "       'United Kingdom,', 'United States, India, United Kingdom', 'Kenya',\n",
              "       'Spain, Argentina', 'India, United Kingdom, France, Qatar',\n",
              "       'Belgium, France', 'Argentina, Chile', 'United States, Thailand',\n",
              "       'Chile, Brazil', 'United States, Colombia',\n",
              "       'Canada, United States, United Kingdom', 'Uruguay', 'Luxembourg',\n",
              "       'United States, Cambodia, Romania', 'Bangladesh',\n",
              "       'Spain, Belgium, United States',\n",
              "       'United Kingdom, United States, Australia',\n",
              "       'Canada, United States, France', 'Portugal, United States',\n",
              "       'Portugal, Spain', 'India, United States',\n",
              "       'United Kingdom, Ireland', 'United Kingdom, Spain, United States',\n",
              "       'Hungary, United States', 'United States, South Korea',\n",
              "       'Canada, United States, Cayman Islands', 'India, France',\n",
              "       'France, Canada', 'Canada, Hungary, United States', 'Norway',\n",
              "       'Canada, United Kingdom, United States',\n",
              "       'United Kingdom, Germany, France, United States',\n",
              "       'Denmark, United States', 'Senegal', 'France, Algeria',\n",
              "       'United Kingdom, Finland, Germany, United States, Australia, Japan, France, Ireland',\n",
              "       'Philippines, Canada, United Kingdom, United States',\n",
              "       'Ireland, France, Iceland, United States, Mexico, Belgium, United Kingdom, Hong Kong',\n",
              "       'Singapore', 'Kuwait', 'United States, France, Serbia',\n",
              "       'United States, Italy', 'Spain, Italy',\n",
              "       'United States, Ireland, United Kingdom, India',\n",
              "       'United Kingdom, Singapore', 'Hong Kong, United States',\n",
              "       'United States, Malta, France, United Kingdom',\n",
              "       'United States, China, Canada', 'Canada, United States, Ireland',\n",
              "       'Lebanon, Canada, France', 'Japan, Canada, United States',\n",
              "       'Spain, France, Canada',\n",
              "       'Denmark, Singapore, Canada, United States',\n",
              "       'United States, France, Denmark', 'United States, China, Colombia',\n",
              "       'Spain, Thailand, United States', 'Mexico, Spain',\n",
              "       'Ireland, Luxembourg, Belgium', 'China, United States',\n",
              "       'Canada, Belgium', 'Canada, United Kingdom',\n",
              "       'Lebanon, United Arab Emirates, France, Switzerland, Germany',\n",
              "       'France, Belgium, Italy',\n",
              "       'Lebanon, United States, United Arab Emirates', 'Lebanon, France',\n",
              "       'France, Lebanon', 'France, Lebanon, United Kingdom',\n",
              "       'France, Norway, Lebanon, Belgium',\n",
              "       'Sweden, Czech Republic, United Kingdom, Denmark, Netherlands',\n",
              "       'United States, United Kingdom, India', 'Indonesia, Netherlands',\n",
              "       'Turkey, South Korea', 'Serbia, United States', 'Namibia',\n",
              "       'United Kingdom, Kenya', 'United Kingdom, France, Germany, Spain',\n",
              "       'United Kingdom, France, United States, Belgium, Luxembourg, China, Germany',\n",
              "       'Thailand, United States',\n",
              "       'United States, France, Canada, Belgium', 'United Kingdom, China',\n",
              "       'Germany, China, United Kingdom',\n",
              "       'Australia, New Zealand, United States',\n",
              "       'Hong Kong, Iceland, United States', 'France, Australia, Germany',\n",
              "       'United States, Belgium, Canada, France', 'South Africa, Angola',\n",
              "       'United States, Philippines',\n",
              "       'United States, United Kingdom, Canada, China',\n",
              "       'United States, Canada, United Kingdom', 'Turkey, United States',\n",
              "       'Peru, Germany, Norway', 'Mozambique', 'Brazil, France',\n",
              "       'China, Spain, South Korea, United States', 'Spain, Germany',\n",
              "       'Hong Kong, China', 'France, Belgium, Luxembourg, Cambodia,',\n",
              "       'United Kingdom, Australia', 'Belarus',\n",
              "       'Indonesia, United Kingdom',\n",
              "       'Switzerland, France, Belgium, United States', 'Ghana',\n",
              "       'Spain, France, Canada, United States', 'Chile, Italy',\n",
              "       'United Kingdom, Nigeria', 'Chile', 'France, Egypt',\n",
              "       'Egypt, France', 'France, Brazil, Spain, Belgium',\n",
              "       'Egypt, Algeria', 'Canada, South Korea, United States',\n",
              "       'Nigeria, United Kingdom', 'United States, France, Canada',\n",
              "       'Poland, United States',\n",
              "       'United Arab Emirates, Jordan, Lebanon, Saudi Arabia',\n",
              "       'United States, Mexico, Spain, Malta',\n",
              "       'Saudi Arabia, United Arab Emirates', 'Zimbabwe',\n",
              "       'United Kingdom, Germany, United Arab Emirates, New Zealand',\n",
              "       'Romania, United States', 'Canada, Nigeria',\n",
              "       'Saudi Arabia, Netherlands, Germany, Jordan, United Arab Emirates, United States',\n",
              "       'United Kingdom, Spain', 'Finland, France',\n",
              "       'United Kingdom, Germany, United States, France',\n",
              "       'India, United Kingdom, China, Canada, Japan, South Korea, United States',\n",
              "       'Italy, United Kingdom, France', 'United States, Mexico, Colombia',\n",
              "       'Turkey, India', 'Italy, Turkey',\n",
              "       'United Kingdom, United States, Japan',\n",
              "       'France, Belgium, United States',\n",
              "       'Puerto Rico, United States, Colombia', 'Uruguay, Argentina',\n",
              "       'United States, United Kingdom, Japan', 'United States, Argentina',\n",
              "       'United Kingdom, Italy', 'Ireland, United Kingdom',\n",
              "       'United Kingdom, France, Belgium, Canada, United States',\n",
              "       'Netherlands, Germany, Denmark, United Kingdom', 'Hungary',\n",
              "       'Austria, Germany', 'Taiwan, China',\n",
              "       'United Kingdom, United States, Ireland',\n",
              "       'South Korea, United States', 'Brazil, United Kingdom',\n",
              "       'Pakistan, United States', 'Romania, France, Switzerland, Germany',\n",
              "       'Romania, United Kingdom', 'France, Malta, United States',\n",
              "       'Cyprus',\n",
              "       'United Kingdom, France, Belgium, Ireland, United States',\n",
              "       'United States, Norway, Canada', 'Kenya, United States',\n",
              "       'France, South Korea, Japan, United States', 'Taiwan, Malaysia',\n",
              "       'Uruguay, Argentina, Germany, Spain',\n",
              "       'United States, United Kingdom, France, Germany, Japan',\n",
              "       'United States, France, Japan',\n",
              "       'United Kingdom, France, United States',\n",
              "       'Spain, France, United States',\n",
              "       'Indonesia, South Korea, Singapore', 'United States, Spain',\n",
              "       'Netherlands, Germany, Italy, Canada',\n",
              "       'Spain, Germany, Denmark, United States', 'Norway, Sweden',\n",
              "       'South Korea, Canada, United States, China',\n",
              "       'Argentina, Uruguay, Serbia', 'France, Japan',\n",
              "       'Mauritius, South Africa', 'United States, Poland',\n",
              "       'United Kingdom, United States, Germany, Denmark, Belgium, Japan',\n",
              "       'India, Germany', 'India, United Kingdom, Canada, United States',\n",
              "       'Philippines, United States', 'Romania, Bulgaria, Hungary',\n",
              "       'Uruguay, Guatemala', 'France, Senegal, Belgium',\n",
              "       'United Kingdom, Canada', 'Mexico, United States, Spain, Colombia',\n",
              "       'Canada, Norway', 'Singapore, United States',\n",
              "       'Finland, Germany, Belgium', 'United Kingdom, France',\n",
              "       'United States, Chile', 'United Kingdom, Japan, United States',\n",
              "       'Spain, United Kingdom', 'Argentina, United States, Mexico',\n",
              "       'United States, South Korea, Japan', 'Canada, Australia',\n",
              "       'United Kingdom, Hungary, Australia', 'Italy, Belgium',\n",
              "       'United States, United Kingdom, Germany', 'Switzerland',\n",
              "       'Singapore, Malaysia',\n",
              "       'France, Belgium, Luxembourg, Romania, Canada, United States',\n",
              "       'South Africa, Nigeria', 'Spain, France',\n",
              "       'United Kingdom, Hong Kong', 'Pakistan', 'Brazil, United States',\n",
              "       'Denmark, Brazil, France, Portugal, Sweden', 'India, Turkey',\n",
              "       'Malaysia, Singapore, Hong Kong', 'Philippines, Singapore',\n",
              "       'Australia, Canada', 'Taiwan, China, France, United States',\n",
              "       'Germany, Italy', 'Colombia, Peru, United Kingdom',\n",
              "       'Thailand, China, United States', 'Argentina, United States',\n",
              "       'Sweden, United States', 'Uruguay, Spain, Mexico',\n",
              "       'France, Luxembourg, Canada', 'Denmark, Spain', 'Chile, Argentina',\n",
              "       'United Kingdom, Belgium, Sweden', 'Canada, Brazil',\n",
              "       'Italy, France', 'Canada, Germany',\n",
              "       'Pakistan, United Arab Emirates', 'Ghana, United States',\n",
              "       'Mexico, Finland', 'United Arab Emirates, United Kingdom, India',\n",
              "       'Netherlands, Belgium', 'United States, Taiwan',\n",
              "       'Austria, Iraq, United States', 'United Kingdom, Malawi',\n",
              "       'Paraguay, Argentina', 'United Kingdom, Russia, United States',\n",
              "       'India, Pakistan', 'Indonesia, Singapore', 'Spain, Belgium',\n",
              "       'Iceland, Sweden, Belgium', 'Croatia', 'Uruguay, Argentina, Spain',\n",
              "       'United Kingdom, Ireland, United States',\n",
              "       'Canada, Germany, France, United States', 'United Kingdom, Japan',\n",
              "       'Norway, Denmark, Netherlands, Sweden',\n",
              "       'Hong Kong, China, United States', 'Ireland, Canada',\n",
              "       'Italy, Switzerland, France, Germany', 'Mexico, Netherlands',\n",
              "       'United States, Sweden', 'Germany, France, Russia',\n",
              "       'France, Iran, United States', 'United Kingdom, India',\n",
              "       'Russia, Poland, Serbia', 'Spain, Portugal', 'Peru',\n",
              "       'Mexico, Argentina',\n",
              "       'United Kingdom, Canada, United States, Cayman Islands',\n",
              "       'Indonesia, United States',\n",
              "       'United States, Israel, United Kingdom, Canada',\n",
              "       'Norway, Iceland, United States', 'Czech Republic, United States',\n",
              "       'United Kingdom, India, United States',\n",
              "       'United Kingdom, West Germany', 'India, Australia',\n",
              "       'United States,', 'Belgium, United Kingdom, United States',\n",
              "       'India, Germany, Austria',\n",
              "       'United States, Brazil, South Korea, Mexico, Japan, Germany',\n",
              "       'Spain, Mexico', 'China, Japan', 'Argentina, France',\n",
              "       'China, United States, United Kingdom',\n",
              "       'France, Luxembourg, United States',\n",
              "       'China, United States, Australia', 'Colombia, Mexico',\n",
              "       'United States, Canada, Ireland', 'Chile, Peru',\n",
              "       'Argentina, Italy', 'Canada, Japan, United States',\n",
              "       'United Kingdom, Canada, United States, Germany',\n",
              "       'Italy, Switzerland, Albania, Poland',\n",
              "       'United States, Japan, Canada', 'Cambodia',\n",
              "       'Italy, United States, Argentina',\n",
              "       'Saudi Arabia, Syria, Egypt, Lebanon, Kuwait',\n",
              "       'United States, Canada, Indonesia, United Kingdom, China, Singapore',\n",
              "       'Spain, Colombia',\n",
              "       'United Kingdom, South Africa, Australia, United States',\n",
              "       'Bulgaria', 'Argentina, Brazil, France, Poland, Germany, Denmark',\n",
              "       'United Kingdom, Spain, United States, Germany',\n",
              "       'Philippines, Qatar', 'Netherlands, Belgium, Germany, Jordan',\n",
              "       'United Arab Emirates, United States', 'Norway, Germany, Sweden',\n",
              "       'South Korea, China', 'Georgia', 'Soviet Union, India',\n",
              "       'Australia, United Arab Emirates', 'Canada, Germany, South Africa',\n",
              "       'South Korea, China, United States', 'India, Soviet Union',\n",
              "       'India, Mexico', 'Georgia, Germany, France',\n",
              "       'United Arab Emirates, Romania', 'India, Malaysia',\n",
              "       'Germany, Jordan, Netherlands', 'Turkey, France, Germany, Poland',\n",
              "       'Greece, United States', 'France, United Kingdom, United States',\n",
              "       'Norway, Germany', 'France, Morocco', 'Cambodia, United States',\n",
              "       'United States, Denmark', 'United States, Colombia, Mexico',\n",
              "       'United Kingdom, Italy, Israel, Peru, United States',\n",
              "       'Argentina, Uruguay, Spain, France',\n",
              "       'United Kingdom, France, United States, Belgium',\n",
              "       'France, Canada, China, Cambodia',\n",
              "       'United Kingdom, France, Belgium, United States', 'Chile, France',\n",
              "       'Netherlands, United States', 'France, United Kingdom, India',\n",
              "       'Czech Republic, Slovakia', 'Singapore, France',\n",
              "       'Spain, Switzerland', 'United States, Australia, China',\n",
              "       'South Africa, United States, Germany',\n",
              "       'United States, United Kingdom, Australia',\n",
              "       'Spain, Italy, Argentina', 'Chile, Spain, Argentina, Germany',\n",
              "       'West Germany', 'Austria, Czech Republic', 'Lebanon, Qatar',\n",
              "       'United Kingdom, Jordan, Qatar, Iran',\n",
              "       'France, South Korea, Japan', 'Israel, Germany, France',\n",
              "       'Canada, Japan, Netherlands', 'United States, Hungary',\n",
              "       'France, Germany', 'France, Qatar',\n",
              "       'United Kingdom, Germany, Canada', 'Ireland, South Africa',\n",
              "       'Chile, United States, France', 'Belgium, France, Netherlands',\n",
              "       'United Kingdom, Ukraine, United States',\n",
              "       'Germany, Australia, France, China', 'Norway, United States',\n",
              "       'United States, Bermuda, Ecuador',\n",
              "       'United States, Hungary, Ireland, Canada',\n",
              "       'United Kingdom, Egypt, United States',\n",
              "       'United States, France, United Kingdom', 'Spain, Mexico, France',\n",
              "       'United States, South Africa', 'Hong Kong, China, Singapore',\n",
              "       'South Africa, China, United States', 'Denmark, France, Poland',\n",
              "       'New Zealand, United Kingdom',\n",
              "       'Netherlands, Denmark, South Africa', 'Iran, France',\n",
              "       'United Kingdom, United States, France, Germany',\n",
              "       'Australia, France', 'Ireland, United Kingdom, United States',\n",
              "       'United Kingdom, France, Germany', 'Canada, Luxembourg',\n",
              "       'Brazil, Netherlands, United States, Colombia, Austria, Germany',\n",
              "       'France, Canada, Belgium', 'Canada, France',\n",
              "       'Bulgaria, United States, Spain, Canada', 'Sweden, Netherlands',\n",
              "       'France, United States, Mexico',\n",
              "       'Australia, United Kingdom, United Arab Emirates, Canada',\n",
              "       'Australia, Armenia, Japan, Jordan, Mexico, Mongolia, New Zealand, Philippines, South Africa, Sweden, United States, Uruguay',\n",
              "       'India, Iran', 'France, Belgium, Spain',\n",
              "       'Denmark, Sweden, Israel, United States', 'United States, Iceland',\n",
              "       'United Kingdom, Russia',\n",
              "       'United States, Israel, Italy, South Africa',\n",
              "       'Netherlands, Denmark, France, Germany', 'South Korea, Japan',\n",
              "       'United Kingdom, Pakistan', 'France, New Zealand',\n",
              "       'United Kingdom, Czech Republic, United States, Germany, Bahamas',\n",
              "       'China, Germany, India, United States', 'Germany, Sri Lanka',\n",
              "       'United States, India, Bangladesh',\n",
              "       'United States, Canada, France', 'Brazil, France, Germany',\n",
              "       'Germany, United States, Hong Kong, Singapore',\n",
              "       'France, Germany, Switzerland',\n",
              "       'Germany, France, Luxembourg, United Kingdom, United States',\n",
              "       'United Kingdom, Canada, Italy', 'Czech Republic, France',\n",
              "       'Taiwan, Hong Kong, United States, China', 'Germany, Australia',\n",
              "       'United Kingdom, Poland, United States', 'Denmark, Zimbabwe',\n",
              "       'United Kingdom, South Africa',\n",
              "       'Finland, Sweden, Norway, Latvia, Germany',\n",
              "       'South Africa, United States, New Zealand, Canada',\n",
              "       'United States, Italy, United Kingdom, Liechtenstein',\n",
              "       'Denmark, France, Belgium, Italy, Netherlands, United States, United Kingdom',\n",
              "       'United States, Australia, Mexico',\n",
              "       'United Kingdom, Czech Republic, Germany, United States',\n",
              "       'France, China, Japan, United States',\n",
              "       'United States, South Korea, China', 'Germany, Belgium',\n",
              "       'Pakistan, Norway, United States',\n",
              "       'United States, Canada, Belgium, United Kingdom', 'Venezuela',\n",
              "       'Canada, France, Italy, Morocco, United States',\n",
              "       'Canada, Spain, France', 'United States, Indonesia',\n",
              "       'Spain, France, Italy',\n",
              "       'United Arab Emirates, United States, United Kingdom',\n",
              "       'United Kingdom, Israel, Russia', 'Spain, Cuba',\n",
              "       'United States, Brazil', 'United States, France, Mexico',\n",
              "       'United States, Nicaragua',\n",
              "       'United Kingdom, United States, Spain, Germany, Greece, Canada',\n",
              "       'Italy, Canada, France',\n",
              "       'United Kingdom, Denmark, Canada, Croatia', 'Italy, Germany',\n",
              "       'United States, France, United Kingdom, Japan',\n",
              "       'United States, United Kingdom, Denmark, Sweden',\n",
              "       'United States, United Kingdom, Italy',\n",
              "       'United States, France, Canada, Spain',\n",
              "       'Russia, United States, China', 'United States, Canada, Germany',\n",
              "       'Ireland, United States', 'United States, United Arab Emirates',\n",
              "       'United States, Ireland',\n",
              "       'Ireland, United Kingdom, Italy, United States', 'Poland,',\n",
              "       'Slovenia, Croatia, Germany, Czech Republic, Qatar',\n",
              "       'Canada, United Kingdom, Netherlands',\n",
              "       'United States, Spain, Germany', 'India, Japan',\n",
              "       'China, South Korea, United States',\n",
              "       'United Kingdom, France, Belgium',\n",
              "       'Canada, Ireland, United States',\n",
              "       'United Kingdom, United States, Dominican Republic',\n",
              "       'United States, Senegal', 'Germany, United Kingdom, United States',\n",
              "       'South Africa, Germany, Netherlands, France',\n",
              "       'Canada, United States, United Kingdom, France, Luxembourg',\n",
              "       'Ireland, United States, France', 'Germany, United States, Canada',\n",
              "       'United Kingdom, Germany, Canada, United States',\n",
              "       'United States, France, Canada, Lebanon, Qatar',\n",
              "       'Netherlands, Belgium, United Kingdom, United States',\n",
              "       'France, Belgium, China, United States',\n",
              "       'United States, Chile, Israel',\n",
              "       'United Kingdom, Norway, Denmark, Germany, Sweden',\n",
              "       'Norway, Denmark, Sweden', 'China, India, Nepal',\n",
              "       'Colombia, Mexico, United States', 'United Kingdom, South Korea',\n",
              "       'Denmark, China', 'United States, Greece, Brazil',\n",
              "       'South Korea, France',\n",
              "       'United States, Australia, Samoa, United Kingdom',\n",
              "       'Germany, United Kingdom', 'Argentina, Chile, Peru',\n",
              "       'Turkey, Azerbaijan', 'Poland, West Germany',\n",
              "       'Germany, United States, Sweden', 'Canada, Spain',\n",
              "       'United States, Cambodia', 'United States, Greece',\n",
              "       'Norway, United Kingdom, France, Ireland',\n",
              "       'United Kingdom, Poland', 'Israel, Sweden, Germany, Netherlands',\n",
              "       'Switzerland, France', 'Italy, India', 'United States, Botswana',\n",
              "       'Chile, Argentina, France, Spain, United States',\n",
              "       'United States, India, South Korea, China',\n",
              "       'Denmark, Germany, Belgium, United Kingdom, France',\n",
              "       'Denmark, Germany, Belgium, United Kingdom, France, Sweden',\n",
              "       'France, Switzerland, Spain, United States, United Arab Emirates',\n",
              "       'Brazil, India, China, United States',\n",
              "       'Denmark, France, United States, Sweden', 'Australia, Iraq',\n",
              "       'China, Morocco, Hong Kong', 'Canada, United States, Germany',\n",
              "       'United Kingdom, Thailand', 'Venezuela, Colombia',\n",
              "       'Colombia, United States',\n",
              "       'France, Germany, Czech Republic, Belgium',\n",
              "       'Switzerland, Vatican City, Italy, Germany, France',\n",
              "       'Portugal, France, Poland, United States',\n",
              "       'United States, New Zealand, Japan',\n",
              "       'United States, Netherlands, Japan, France', 'India, Switzerland',\n",
              "       'Canada, India', 'United States, Morocco',\n",
              "       'Singapore, Japan, France',\n",
              "       'Canada, Mexico, Germany, South Africa',\n",
              "       'United Kingdom, United States, Canada',\n",
              "       'Germany, France, United States, Canada, United Kingdom',\n",
              "       'United States, Uruguay', 'India, Canada',\n",
              "       'Ireland, Canada, United Kingdom, United States',\n",
              "       'United States, Germany, Australia', 'Australia, France, Ireland',\n",
              "       'Australia, India', 'United States, United Kingdom, Canada, Japan',\n",
              "       'Sweden, United Kingdom, Finland', 'Hong Kong, Taiwan',\n",
              "       'United States, United Kingdom, Spain, South Korea', 'Guatemala',\n",
              "       'Ukraine',\n",
              "       'Italy, South Africa, West Germany, Australia, United States',\n",
              "       'United States, Germany, United Kingdom, Australia',\n",
              "       'Italy, France, Switzerland', 'Canada, France, United States',\n",
              "       'Switzerland, United States', 'Thailand, Canada, United States',\n",
              "       'China, Hong Kong, United States', 'United Kingdom, New Zealand',\n",
              "       'Czech Republic, United Kingdom, France',\n",
              "       'Australia, United Kingdom, Canada', 'Jamaica, United States',\n",
              "       'Australia, United Kingdom, United States, New Zealand, Italy, France',\n",
              "       'France, United States, Canada',\n",
              "       'United Kingdom, France, Canada, Belgium, United States',\n",
              "       'Denmark, United Kingdom, Sweden', 'United States, Hong Kong',\n",
              "       'United States, Kazakhstan',\n",
              "       'Argentina, France, United States, Germany, Qatar',\n",
              "       'United States, Germany, United Kingdom',\n",
              "       'United States, Germany, United Kingdom, Italy',\n",
              "       'United States, New Zealand, United Kingdom',\n",
              "       'Finland, United States', 'Spain, France, Uruguay',\n",
              "       'France, Canada, United States', 'United States, Canada, China',\n",
              "       'Ireland, Canada, Luxembourg, United States, United Kingdom, Philippines, India',\n",
              "       'United States, Czech Republic, United Kingdom', 'Israel, Germany',\n",
              "       'Mexico, France',\n",
              "       'Israel, Germany, Poland, Luxembourg, Belgium, France, United States',\n",
              "       'Austria, United States', 'United Kingdom, Lithuania',\n",
              "       'United States, Greece, United Kingdom',\n",
              "       'United Kingdom, China, United States, India',\n",
              "       'United States, Sweden, Norway',\n",
              "       'United Kingdom, United States, Morocco',\n",
              "       'United States, United Kingdom, Morocco',\n",
              "       'Spain, Canada, United States',\n",
              "       'United States, India, United Arab Emirates',\n",
              "       'United Kingdom, Canada, France, United States',\n",
              "       'India, Germany, France',\n",
              "       'Belgium, Ireland, Netherlands, Germany, Afghanistan',\n",
              "       'France, Canada, Italy, United States, China',\n",
              "       'Ireland, United Kingdom, Greece, France, Netherlands',\n",
              "       'Denmark, Indonesia, Finland, Norway, United Kingdom, Israel, France, United States, Germany, Netherlands',\n",
              "       'New Zealand, United States',\n",
              "       'United States, Australia, South Africa, United Kingdom',\n",
              "       'United States, Germany, Mexico',\n",
              "       'Somalia, Kenya, Sudan, South Africa, United States',\n",
              "       'United States, Canada, Japan, Panama',\n",
              "       'United Kingdom, Spain, Belgium', 'Serbia, South Korea, Slovenia',\n",
              "       'Denmark, United Kingdom, South Africa, Sweden, Belgium',\n",
              "       'Germany, Canada, United States',\n",
              "       'Ireland, Canada, United States, United Kingdom',\n",
              "       'New Zealand, United Kingdom, Australia',\n",
              "       'United Kingdom, Australia, Canada, United States',\n",
              "       'Germany, United States, Italy', 'United States, Venezuela',\n",
              "       'United Kingdom, Canada, Japan',\n",
              "       'United Kingdom, United States, Czech Republic',\n",
              "       'United Kingdom, China, United States',\n",
              "       'United Kingdom, Brazil, Germany',\n",
              "       'United Kingdom, Namibia, South Africa, Zimbabwe, United States',\n",
              "       'Canada, United States, India, United Kingdom',\n",
              "       'Switzerland, United Kingdom, United States',\n",
              "       'United Kingdom, India, Sweden',\n",
              "       'United States, Brazil, India, Uganda, China',\n",
              "       'Peru, United States, United Kingdom',\n",
              "       'Germany, United States, United Kingdom, Canada',\n",
              "       'Canada, India, Thailand, United States, United Arab Emirates',\n",
              "       'United States, East Germany, West Germany',\n",
              "       'France, Netherlands, South Africa, Finland',\n",
              "       'Egypt, Austria, United States', 'Russia, Spain',\n",
              "       'Croatia, Slovenia, Serbia, Montenegro', 'Japan, Canada',\n",
              "       'United States, France, South Korea, Indonesia',\n",
              "       'United Arab Emirates, Jordan'], dtype=object)"
            ]
          },
          "metadata": {},
          "execution_count": 24
        }
      ]
    },
    {
      "cell_type": "markdown",
      "source": [
        "# Filtering Rows"
      ],
      "metadata": {
        "id": "zGjTSwx4WPmQ"
      }
    },
    {
      "cell_type": "markdown",
      "source": [
        "Pandas is not only great for selecting certain columns. It is also great for filtering rows by looking if the value of a column meets a condition.\n",
        "\n",
        "On the code cell below, we create a variable in which we select the column type and cheking the condition =='Movie'\n",
        "\n",
        "This effectively tells us which rows of the data have the 'Movie' on the type column. This is stored in the movie condition variable.\n",
        "\n",
        "Afterwards, we create a new dataframe with the result of the condition by writing the name of the new variable followed by = followed by the variable that contains our origingal dataframe followed by the condition variable within square brackets."
      ],
      "metadata": {
        "id": "BnhwXcrMWTNK"
      }
    },
    {
      "cell_type": "code",
      "source": [
        "# Cheking the condition for each row and storing it on the variable movie_condition\n",
        "movie_condition = netflix_titles_df[\"type\"]==\"Movie\"\n",
        "# Filtering the original dataframe using the condition and assigning the new dataframe to be the new content of the netflix_movies_df dataframe variable\n",
        "netflix_movies_df = netflix_titles_df[movie_condition]"
      ],
      "metadata": {
        "id": "-DNBk0ZAZDCQ"
      },
      "execution_count": null,
      "outputs": []
    },
    {
      "cell_type": "markdown",
      "source": [
        "# Task f): Did the data change?"
      ],
      "metadata": {
        "id": "BROvQ5Y6X5YQ"
      }
    },
    {
      "cell_type": "markdown",
      "source": [
        "Use the code cell below to print the first 8 rows of the on netflix_titles_df dataframe and the first 8 rows of the netflix_movies_df to see if our filter worked"
      ],
      "metadata": {
        "id": "EqEwowOIX_Vt"
      }
    },
    {
      "cell_type": "code",
      "source": [
        "# Write the code for task f on this cell\n",
        "\n",
        "netflix_titles_df[:8]\n"
      ],
      "metadata": {
        "id": "lvnaaFb8ZRPJ",
        "colab": {
          "base_uri": "https://localhost:8080/",
          "height": 691
        },
        "outputId": "96481180-2847-40f7-c2a8-0dd25f19d08e"
      },
      "execution_count": null,
      "outputs": [
        {
          "output_type": "execute_result",
          "data": {
            "text/plain": [
              "  show_id     type                             title  \\\n",
              "0      s1    Movie              Dick Johnson Is Dead   \n",
              "1      s2  TV Show                     Blood & Water   \n",
              "2      s3  TV Show                         Ganglands   \n",
              "3      s4  TV Show             Jailbirds New Orleans   \n",
              "4      s5  TV Show                      Kota Factory   \n",
              "5      s6  TV Show                     Midnight Mass   \n",
              "6      s7    Movie  My Little Pony: A New Generation   \n",
              "7      s8    Movie                           Sankofa   \n",
              "\n",
              "                        director  \\\n",
              "0                Kirsten Johnson   \n",
              "1                            NaN   \n",
              "2                Julien Leclercq   \n",
              "3                            NaN   \n",
              "4                            NaN   \n",
              "5                  Mike Flanagan   \n",
              "6  Robert Cullen, José Luis Ucha   \n",
              "7                   Haile Gerima   \n",
              "\n",
              "                                                cast  \\\n",
              "0                                                NaN   \n",
              "1  Ama Qamata, Khosi Ngema, Gail Mabalane, Thaban...   \n",
              "2  Sami Bouajila, Tracy Gotoas, Samuel Jouy, Nabi...   \n",
              "3                                                NaN   \n",
              "4  Mayur More, Jitendra Kumar, Ranjan Raj, Alam K...   \n",
              "5  Kate Siegel, Zach Gilford, Hamish Linklater, H...   \n",
              "6  Vanessa Hudgens, Kimiko Glenn, James Marsden, ...   \n",
              "7  Kofi Ghanaba, Oyafunmike Ogunlano, Alexandra D...   \n",
              "\n",
              "                                             country          date_added  \\\n",
              "0                                      United States  September 25, 2021   \n",
              "1                                       South Africa  September 24, 2021   \n",
              "2                                                NaN  September 24, 2021   \n",
              "3                                                NaN  September 24, 2021   \n",
              "4                                              India  September 24, 2021   \n",
              "5                                                NaN  September 24, 2021   \n",
              "6                                                NaN  September 24, 2021   \n",
              "7  United States, Ghana, Burkina Faso, United Kin...  September 24, 2021   \n",
              "\n",
              "   release_year rating   duration  \\\n",
              "0          2020  PG-13     90 min   \n",
              "1          2021  TV-MA  2 Seasons   \n",
              "2          2021  TV-MA   1 Season   \n",
              "3          2021  TV-MA   1 Season   \n",
              "4          2021  TV-MA  2 Seasons   \n",
              "5          2021  TV-MA   1 Season   \n",
              "6          2021     PG     91 min   \n",
              "7          1993  TV-MA    125 min   \n",
              "\n",
              "                                           listed_in  \\\n",
              "0                                      Documentaries   \n",
              "1    International TV Shows, TV Dramas, TV Mysteries   \n",
              "2  Crime TV Shows, International TV Shows, TV Act...   \n",
              "3                             Docuseries, Reality TV   \n",
              "4  International TV Shows, Romantic TV Shows, TV ...   \n",
              "5                 TV Dramas, TV Horror, TV Mysteries   \n",
              "6                           Children & Family Movies   \n",
              "7   Dramas, Independent Movies, International Movies   \n",
              "\n",
              "                                         description  \n",
              "0  As her father nears the end of his life, filmm...  \n",
              "1  After crossing paths at a party, a Cape Town t...  \n",
              "2  To protect his family from a powerful drug lor...  \n",
              "3  Feuds, flirtations and toilet talk go down amo...  \n",
              "4  In a city of coaching centers known to train I...  \n",
              "5  The arrival of a charismatic young priest brin...  \n",
              "6  Equestria's divided. But a bright-eyed hero be...  \n",
              "7  On a photo shoot in Ghana, an American model s...  "
            ],
            "text/html": [
              "\n",
              "  <div id=\"df-e2a5dc66-c204-4220-81e8-6e60de873dad\">\n",
              "    <div class=\"colab-df-container\">\n",
              "      <div>\n",
              "<style scoped>\n",
              "    .dataframe tbody tr th:only-of-type {\n",
              "        vertical-align: middle;\n",
              "    }\n",
              "\n",
              "    .dataframe tbody tr th {\n",
              "        vertical-align: top;\n",
              "    }\n",
              "\n",
              "    .dataframe thead th {\n",
              "        text-align: right;\n",
              "    }\n",
              "</style>\n",
              "<table border=\"1\" class=\"dataframe\">\n",
              "  <thead>\n",
              "    <tr style=\"text-align: right;\">\n",
              "      <th></th>\n",
              "      <th>show_id</th>\n",
              "      <th>type</th>\n",
              "      <th>title</th>\n",
              "      <th>director</th>\n",
              "      <th>cast</th>\n",
              "      <th>country</th>\n",
              "      <th>date_added</th>\n",
              "      <th>release_year</th>\n",
              "      <th>rating</th>\n",
              "      <th>duration</th>\n",
              "      <th>listed_in</th>\n",
              "      <th>description</th>\n",
              "    </tr>\n",
              "  </thead>\n",
              "  <tbody>\n",
              "    <tr>\n",
              "      <th>0</th>\n",
              "      <td>s1</td>\n",
              "      <td>Movie</td>\n",
              "      <td>Dick Johnson Is Dead</td>\n",
              "      <td>Kirsten Johnson</td>\n",
              "      <td>NaN</td>\n",
              "      <td>United States</td>\n",
              "      <td>September 25, 2021</td>\n",
              "      <td>2020</td>\n",
              "      <td>PG-13</td>\n",
              "      <td>90 min</td>\n",
              "      <td>Documentaries</td>\n",
              "      <td>As her father nears the end of his life, filmm...</td>\n",
              "    </tr>\n",
              "    <tr>\n",
              "      <th>1</th>\n",
              "      <td>s2</td>\n",
              "      <td>TV Show</td>\n",
              "      <td>Blood &amp; Water</td>\n",
              "      <td>NaN</td>\n",
              "      <td>Ama Qamata, Khosi Ngema, Gail Mabalane, Thaban...</td>\n",
              "      <td>South Africa</td>\n",
              "      <td>September 24, 2021</td>\n",
              "      <td>2021</td>\n",
              "      <td>TV-MA</td>\n",
              "      <td>2 Seasons</td>\n",
              "      <td>International TV Shows, TV Dramas, TV Mysteries</td>\n",
              "      <td>After crossing paths at a party, a Cape Town t...</td>\n",
              "    </tr>\n",
              "    <tr>\n",
              "      <th>2</th>\n",
              "      <td>s3</td>\n",
              "      <td>TV Show</td>\n",
              "      <td>Ganglands</td>\n",
              "      <td>Julien Leclercq</td>\n",
              "      <td>Sami Bouajila, Tracy Gotoas, Samuel Jouy, Nabi...</td>\n",
              "      <td>NaN</td>\n",
              "      <td>September 24, 2021</td>\n",
              "      <td>2021</td>\n",
              "      <td>TV-MA</td>\n",
              "      <td>1 Season</td>\n",
              "      <td>Crime TV Shows, International TV Shows, TV Act...</td>\n",
              "      <td>To protect his family from a powerful drug lor...</td>\n",
              "    </tr>\n",
              "    <tr>\n",
              "      <th>3</th>\n",
              "      <td>s4</td>\n",
              "      <td>TV Show</td>\n",
              "      <td>Jailbirds New Orleans</td>\n",
              "      <td>NaN</td>\n",
              "      <td>NaN</td>\n",
              "      <td>NaN</td>\n",
              "      <td>September 24, 2021</td>\n",
              "      <td>2021</td>\n",
              "      <td>TV-MA</td>\n",
              "      <td>1 Season</td>\n",
              "      <td>Docuseries, Reality TV</td>\n",
              "      <td>Feuds, flirtations and toilet talk go down amo...</td>\n",
              "    </tr>\n",
              "    <tr>\n",
              "      <th>4</th>\n",
              "      <td>s5</td>\n",
              "      <td>TV Show</td>\n",
              "      <td>Kota Factory</td>\n",
              "      <td>NaN</td>\n",
              "      <td>Mayur More, Jitendra Kumar, Ranjan Raj, Alam K...</td>\n",
              "      <td>India</td>\n",
              "      <td>September 24, 2021</td>\n",
              "      <td>2021</td>\n",
              "      <td>TV-MA</td>\n",
              "      <td>2 Seasons</td>\n",
              "      <td>International TV Shows, Romantic TV Shows, TV ...</td>\n",
              "      <td>In a city of coaching centers known to train I...</td>\n",
              "    </tr>\n",
              "    <tr>\n",
              "      <th>5</th>\n",
              "      <td>s6</td>\n",
              "      <td>TV Show</td>\n",
              "      <td>Midnight Mass</td>\n",
              "      <td>Mike Flanagan</td>\n",
              "      <td>Kate Siegel, Zach Gilford, Hamish Linklater, H...</td>\n",
              "      <td>NaN</td>\n",
              "      <td>September 24, 2021</td>\n",
              "      <td>2021</td>\n",
              "      <td>TV-MA</td>\n",
              "      <td>1 Season</td>\n",
              "      <td>TV Dramas, TV Horror, TV Mysteries</td>\n",
              "      <td>The arrival of a charismatic young priest brin...</td>\n",
              "    </tr>\n",
              "    <tr>\n",
              "      <th>6</th>\n",
              "      <td>s7</td>\n",
              "      <td>Movie</td>\n",
              "      <td>My Little Pony: A New Generation</td>\n",
              "      <td>Robert Cullen, José Luis Ucha</td>\n",
              "      <td>Vanessa Hudgens, Kimiko Glenn, James Marsden, ...</td>\n",
              "      <td>NaN</td>\n",
              "      <td>September 24, 2021</td>\n",
              "      <td>2021</td>\n",
              "      <td>PG</td>\n",
              "      <td>91 min</td>\n",
              "      <td>Children &amp; Family Movies</td>\n",
              "      <td>Equestria's divided. But a bright-eyed hero be...</td>\n",
              "    </tr>\n",
              "    <tr>\n",
              "      <th>7</th>\n",
              "      <td>s8</td>\n",
              "      <td>Movie</td>\n",
              "      <td>Sankofa</td>\n",
              "      <td>Haile Gerima</td>\n",
              "      <td>Kofi Ghanaba, Oyafunmike Ogunlano, Alexandra D...</td>\n",
              "      <td>United States, Ghana, Burkina Faso, United Kin...</td>\n",
              "      <td>September 24, 2021</td>\n",
              "      <td>1993</td>\n",
              "      <td>TV-MA</td>\n",
              "      <td>125 min</td>\n",
              "      <td>Dramas, Independent Movies, International Movies</td>\n",
              "      <td>On a photo shoot in Ghana, an American model s...</td>\n",
              "    </tr>\n",
              "  </tbody>\n",
              "</table>\n",
              "</div>\n",
              "      <button class=\"colab-df-convert\" onclick=\"convertToInteractive('df-e2a5dc66-c204-4220-81e8-6e60de873dad')\"\n",
              "              title=\"Convert this dataframe to an interactive table.\"\n",
              "              style=\"display:none;\">\n",
              "        \n",
              "  <svg xmlns=\"http://www.w3.org/2000/svg\" height=\"24px\"viewBox=\"0 0 24 24\"\n",
              "       width=\"24px\">\n",
              "    <path d=\"M0 0h24v24H0V0z\" fill=\"none\"/>\n",
              "    <path d=\"M18.56 5.44l.94 2.06.94-2.06 2.06-.94-2.06-.94-.94-2.06-.94 2.06-2.06.94zm-11 1L8.5 8.5l.94-2.06 2.06-.94-2.06-.94L8.5 2.5l-.94 2.06-2.06.94zm10 10l.94 2.06.94-2.06 2.06-.94-2.06-.94-.94-2.06-.94 2.06-2.06.94z\"/><path d=\"M17.41 7.96l-1.37-1.37c-.4-.4-.92-.59-1.43-.59-.52 0-1.04.2-1.43.59L10.3 9.45l-7.72 7.72c-.78.78-.78 2.05 0 2.83L4 21.41c.39.39.9.59 1.41.59.51 0 1.02-.2 1.41-.59l7.78-7.78 2.81-2.81c.8-.78.8-2.07 0-2.86zM5.41 20L4 18.59l7.72-7.72 1.47 1.35L5.41 20z\"/>\n",
              "  </svg>\n",
              "      </button>\n",
              "      \n",
              "  <style>\n",
              "    .colab-df-container {\n",
              "      display:flex;\n",
              "      flex-wrap:wrap;\n",
              "      gap: 12px;\n",
              "    }\n",
              "\n",
              "    .colab-df-convert {\n",
              "      background-color: #E8F0FE;\n",
              "      border: none;\n",
              "      border-radius: 50%;\n",
              "      cursor: pointer;\n",
              "      display: none;\n",
              "      fill: #1967D2;\n",
              "      height: 32px;\n",
              "      padding: 0 0 0 0;\n",
              "      width: 32px;\n",
              "    }\n",
              "\n",
              "    .colab-df-convert:hover {\n",
              "      background-color: #E2EBFA;\n",
              "      box-shadow: 0px 1px 2px rgba(60, 64, 67, 0.3), 0px 1px 3px 1px rgba(60, 64, 67, 0.15);\n",
              "      fill: #174EA6;\n",
              "    }\n",
              "\n",
              "    [theme=dark] .colab-df-convert {\n",
              "      background-color: #3B4455;\n",
              "      fill: #D2E3FC;\n",
              "    }\n",
              "\n",
              "    [theme=dark] .colab-df-convert:hover {\n",
              "      background-color: #434B5C;\n",
              "      box-shadow: 0px 1px 3px 1px rgba(0, 0, 0, 0.15);\n",
              "      filter: drop-shadow(0px 1px 2px rgba(0, 0, 0, 0.3));\n",
              "      fill: #FFFFFF;\n",
              "    }\n",
              "  </style>\n",
              "\n",
              "      <script>\n",
              "        const buttonEl =\n",
              "          document.querySelector('#df-e2a5dc66-c204-4220-81e8-6e60de873dad button.colab-df-convert');\n",
              "        buttonEl.style.display =\n",
              "          google.colab.kernel.accessAllowed ? 'block' : 'none';\n",
              "\n",
              "        async function convertToInteractive(key) {\n",
              "          const element = document.querySelector('#df-e2a5dc66-c204-4220-81e8-6e60de873dad');\n",
              "          const dataTable =\n",
              "            await google.colab.kernel.invokeFunction('convertToInteractive',\n",
              "                                                     [key], {});\n",
              "          if (!dataTable) return;\n",
              "\n",
              "          const docLinkHtml = 'Like what you see? Visit the ' +\n",
              "            '<a target=\"_blank\" href=https://colab.research.google.com/notebooks/data_table.ipynb>data table notebook</a>'\n",
              "            + ' to learn more about interactive tables.';\n",
              "          element.innerHTML = '';\n",
              "          dataTable['output_type'] = 'display_data';\n",
              "          await google.colab.output.renderOutput(dataTable, element);\n",
              "          const docLink = document.createElement('div');\n",
              "          docLink.innerHTML = docLinkHtml;\n",
              "          element.appendChild(docLink);\n",
              "        }\n",
              "      </script>\n",
              "    </div>\n",
              "  </div>\n",
              "  "
            ]
          },
          "metadata": {},
          "execution_count": 26
        }
      ]
    },
    {
      "cell_type": "code",
      "source": [
        "netflix_movies_df"
      ],
      "metadata": {
        "id": "YJqy4vSssYQH",
        "outputId": "00dd8173-145d-48f4-c65b-aeeb687273ae",
        "colab": {
          "base_uri": "https://localhost:8080/",
          "height": 919
        }
      },
      "execution_count": null,
      "outputs": [
        {
          "output_type": "execute_result",
          "data": {
            "text/plain": [
              "     show_id   type                             title  \\\n",
              "0         s1  Movie              Dick Johnson Is Dead   \n",
              "6         s7  Movie  My Little Pony: A New Generation   \n",
              "7         s8  Movie                           Sankofa   \n",
              "9        s10  Movie                      The Starling   \n",
              "12       s13  Movie                      Je Suis Karl   \n",
              "...      ...    ...                               ...   \n",
              "8801   s8802  Movie                           Zinzana   \n",
              "8802   s8803  Movie                            Zodiac   \n",
              "8804   s8805  Movie                        Zombieland   \n",
              "8805   s8806  Movie                              Zoom   \n",
              "8806   s8807  Movie                            Zubaan   \n",
              "\n",
              "                           director  \\\n",
              "0                   Kirsten Johnson   \n",
              "6     Robert Cullen, José Luis Ucha   \n",
              "7                      Haile Gerima   \n",
              "9                    Theodore Melfi   \n",
              "12              Christian Schwochow   \n",
              "...                             ...   \n",
              "8801                Majid Al Ansari   \n",
              "8802                  David Fincher   \n",
              "8804                Ruben Fleischer   \n",
              "8805                   Peter Hewitt   \n",
              "8806                    Mozez Singh   \n",
              "\n",
              "                                                   cast  \\\n",
              "0                                                   NaN   \n",
              "6     Vanessa Hudgens, Kimiko Glenn, James Marsden, ...   \n",
              "7     Kofi Ghanaba, Oyafunmike Ogunlano, Alexandra D...   \n",
              "9     Melissa McCarthy, Chris O'Dowd, Kevin Kline, T...   \n",
              "12    Luna Wedler, Jannis Niewöhner, Milan Peschel, ...   \n",
              "...                                                 ...   \n",
              "8801  Ali Suliman, Saleh Bakri, Yasa, Ali Al-Jabri, ...   \n",
              "8802  Mark Ruffalo, Jake Gyllenhaal, Robert Downey J...   \n",
              "8804  Jesse Eisenberg, Woody Harrelson, Emma Stone, ...   \n",
              "8805  Tim Allen, Courteney Cox, Chevy Chase, Kate Ma...   \n",
              "8806  Vicky Kaushal, Sarah-Jane Dias, Raaghav Chanan...   \n",
              "\n",
              "                                                country          date_added  \\\n",
              "0                                         United States  September 25, 2021   \n",
              "6                                                   NaN  September 24, 2021   \n",
              "7     United States, Ghana, Burkina Faso, United Kin...  September 24, 2021   \n",
              "9                                         United States  September 24, 2021   \n",
              "12                              Germany, Czech Republic  September 23, 2021   \n",
              "...                                                 ...                 ...   \n",
              "8801                       United Arab Emirates, Jordan       March 9, 2016   \n",
              "8802                                      United States   November 20, 2019   \n",
              "8804                                      United States    November 1, 2019   \n",
              "8805                                      United States    January 11, 2020   \n",
              "8806                                              India       March 2, 2019   \n",
              "\n",
              "      release_year rating duration  \\\n",
              "0             2020  PG-13   90 min   \n",
              "6             2021     PG   91 min   \n",
              "7             1993  TV-MA  125 min   \n",
              "9             2021  PG-13  104 min   \n",
              "12            2021  TV-MA  127 min   \n",
              "...            ...    ...      ...   \n",
              "8801          2015  TV-MA   96 min   \n",
              "8802          2007      R  158 min   \n",
              "8804          2009      R   88 min   \n",
              "8805          2006     PG   88 min   \n",
              "8806          2015  TV-14  111 min   \n",
              "\n",
              "                                             listed_in  \\\n",
              "0                                        Documentaries   \n",
              "6                             Children & Family Movies   \n",
              "7     Dramas, Independent Movies, International Movies   \n",
              "9                                     Comedies, Dramas   \n",
              "12                        Dramas, International Movies   \n",
              "...                                                ...   \n",
              "8801           Dramas, International Movies, Thrillers   \n",
              "8802                    Cult Movies, Dramas, Thrillers   \n",
              "8804                           Comedies, Horror Movies   \n",
              "8805                Children & Family Movies, Comedies   \n",
              "8806    Dramas, International Movies, Music & Musicals   \n",
              "\n",
              "                                            description  \n",
              "0     As her father nears the end of his life, filmm...  \n",
              "6     Equestria's divided. But a bright-eyed hero be...  \n",
              "7     On a photo shoot in Ghana, an American model s...  \n",
              "9     A woman adjusting to life after a loss contend...  \n",
              "12    After most of her family is murdered in a terr...  \n",
              "...                                                 ...  \n",
              "8801  Recovering alcoholic Talal wakes up inside a s...  \n",
              "8802  A political cartoonist, a crime reporter and a...  \n",
              "8804  Looking to survive in a world taken over by zo...  \n",
              "8805  Dragged from civilian life, a former superhero...  \n",
              "8806  A scrappy but poor boy worms his way into a ty...  \n",
              "\n",
              "[6131 rows x 12 columns]"
            ],
            "text/html": [
              "\n",
              "  <div id=\"df-0fe34233-9aff-455b-bbf2-021fe5fa9f68\">\n",
              "    <div class=\"colab-df-container\">\n",
              "      <div>\n",
              "<style scoped>\n",
              "    .dataframe tbody tr th:only-of-type {\n",
              "        vertical-align: middle;\n",
              "    }\n",
              "\n",
              "    .dataframe tbody tr th {\n",
              "        vertical-align: top;\n",
              "    }\n",
              "\n",
              "    .dataframe thead th {\n",
              "        text-align: right;\n",
              "    }\n",
              "</style>\n",
              "<table border=\"1\" class=\"dataframe\">\n",
              "  <thead>\n",
              "    <tr style=\"text-align: right;\">\n",
              "      <th></th>\n",
              "      <th>show_id</th>\n",
              "      <th>type</th>\n",
              "      <th>title</th>\n",
              "      <th>director</th>\n",
              "      <th>cast</th>\n",
              "      <th>country</th>\n",
              "      <th>date_added</th>\n",
              "      <th>release_year</th>\n",
              "      <th>rating</th>\n",
              "      <th>duration</th>\n",
              "      <th>listed_in</th>\n",
              "      <th>description</th>\n",
              "    </tr>\n",
              "  </thead>\n",
              "  <tbody>\n",
              "    <tr>\n",
              "      <th>0</th>\n",
              "      <td>s1</td>\n",
              "      <td>Movie</td>\n",
              "      <td>Dick Johnson Is Dead</td>\n",
              "      <td>Kirsten Johnson</td>\n",
              "      <td>NaN</td>\n",
              "      <td>United States</td>\n",
              "      <td>September 25, 2021</td>\n",
              "      <td>2020</td>\n",
              "      <td>PG-13</td>\n",
              "      <td>90 min</td>\n",
              "      <td>Documentaries</td>\n",
              "      <td>As her father nears the end of his life, filmm...</td>\n",
              "    </tr>\n",
              "    <tr>\n",
              "      <th>6</th>\n",
              "      <td>s7</td>\n",
              "      <td>Movie</td>\n",
              "      <td>My Little Pony: A New Generation</td>\n",
              "      <td>Robert Cullen, José Luis Ucha</td>\n",
              "      <td>Vanessa Hudgens, Kimiko Glenn, James Marsden, ...</td>\n",
              "      <td>NaN</td>\n",
              "      <td>September 24, 2021</td>\n",
              "      <td>2021</td>\n",
              "      <td>PG</td>\n",
              "      <td>91 min</td>\n",
              "      <td>Children &amp; Family Movies</td>\n",
              "      <td>Equestria's divided. But a bright-eyed hero be...</td>\n",
              "    </tr>\n",
              "    <tr>\n",
              "      <th>7</th>\n",
              "      <td>s8</td>\n",
              "      <td>Movie</td>\n",
              "      <td>Sankofa</td>\n",
              "      <td>Haile Gerima</td>\n",
              "      <td>Kofi Ghanaba, Oyafunmike Ogunlano, Alexandra D...</td>\n",
              "      <td>United States, Ghana, Burkina Faso, United Kin...</td>\n",
              "      <td>September 24, 2021</td>\n",
              "      <td>1993</td>\n",
              "      <td>TV-MA</td>\n",
              "      <td>125 min</td>\n",
              "      <td>Dramas, Independent Movies, International Movies</td>\n",
              "      <td>On a photo shoot in Ghana, an American model s...</td>\n",
              "    </tr>\n",
              "    <tr>\n",
              "      <th>9</th>\n",
              "      <td>s10</td>\n",
              "      <td>Movie</td>\n",
              "      <td>The Starling</td>\n",
              "      <td>Theodore Melfi</td>\n",
              "      <td>Melissa McCarthy, Chris O'Dowd, Kevin Kline, T...</td>\n",
              "      <td>United States</td>\n",
              "      <td>September 24, 2021</td>\n",
              "      <td>2021</td>\n",
              "      <td>PG-13</td>\n",
              "      <td>104 min</td>\n",
              "      <td>Comedies, Dramas</td>\n",
              "      <td>A woman adjusting to life after a loss contend...</td>\n",
              "    </tr>\n",
              "    <tr>\n",
              "      <th>12</th>\n",
              "      <td>s13</td>\n",
              "      <td>Movie</td>\n",
              "      <td>Je Suis Karl</td>\n",
              "      <td>Christian Schwochow</td>\n",
              "      <td>Luna Wedler, Jannis Niewöhner, Milan Peschel, ...</td>\n",
              "      <td>Germany, Czech Republic</td>\n",
              "      <td>September 23, 2021</td>\n",
              "      <td>2021</td>\n",
              "      <td>TV-MA</td>\n",
              "      <td>127 min</td>\n",
              "      <td>Dramas, International Movies</td>\n",
              "      <td>After most of her family is murdered in a terr...</td>\n",
              "    </tr>\n",
              "    <tr>\n",
              "      <th>...</th>\n",
              "      <td>...</td>\n",
              "      <td>...</td>\n",
              "      <td>...</td>\n",
              "      <td>...</td>\n",
              "      <td>...</td>\n",
              "      <td>...</td>\n",
              "      <td>...</td>\n",
              "      <td>...</td>\n",
              "      <td>...</td>\n",
              "      <td>...</td>\n",
              "      <td>...</td>\n",
              "      <td>...</td>\n",
              "    </tr>\n",
              "    <tr>\n",
              "      <th>8801</th>\n",
              "      <td>s8802</td>\n",
              "      <td>Movie</td>\n",
              "      <td>Zinzana</td>\n",
              "      <td>Majid Al Ansari</td>\n",
              "      <td>Ali Suliman, Saleh Bakri, Yasa, Ali Al-Jabri, ...</td>\n",
              "      <td>United Arab Emirates, Jordan</td>\n",
              "      <td>March 9, 2016</td>\n",
              "      <td>2015</td>\n",
              "      <td>TV-MA</td>\n",
              "      <td>96 min</td>\n",
              "      <td>Dramas, International Movies, Thrillers</td>\n",
              "      <td>Recovering alcoholic Talal wakes up inside a s...</td>\n",
              "    </tr>\n",
              "    <tr>\n",
              "      <th>8802</th>\n",
              "      <td>s8803</td>\n",
              "      <td>Movie</td>\n",
              "      <td>Zodiac</td>\n",
              "      <td>David Fincher</td>\n",
              "      <td>Mark Ruffalo, Jake Gyllenhaal, Robert Downey J...</td>\n",
              "      <td>United States</td>\n",
              "      <td>November 20, 2019</td>\n",
              "      <td>2007</td>\n",
              "      <td>R</td>\n",
              "      <td>158 min</td>\n",
              "      <td>Cult Movies, Dramas, Thrillers</td>\n",
              "      <td>A political cartoonist, a crime reporter and a...</td>\n",
              "    </tr>\n",
              "    <tr>\n",
              "      <th>8804</th>\n",
              "      <td>s8805</td>\n",
              "      <td>Movie</td>\n",
              "      <td>Zombieland</td>\n",
              "      <td>Ruben Fleischer</td>\n",
              "      <td>Jesse Eisenberg, Woody Harrelson, Emma Stone, ...</td>\n",
              "      <td>United States</td>\n",
              "      <td>November 1, 2019</td>\n",
              "      <td>2009</td>\n",
              "      <td>R</td>\n",
              "      <td>88 min</td>\n",
              "      <td>Comedies, Horror Movies</td>\n",
              "      <td>Looking to survive in a world taken over by zo...</td>\n",
              "    </tr>\n",
              "    <tr>\n",
              "      <th>8805</th>\n",
              "      <td>s8806</td>\n",
              "      <td>Movie</td>\n",
              "      <td>Zoom</td>\n",
              "      <td>Peter Hewitt</td>\n",
              "      <td>Tim Allen, Courteney Cox, Chevy Chase, Kate Ma...</td>\n",
              "      <td>United States</td>\n",
              "      <td>January 11, 2020</td>\n",
              "      <td>2006</td>\n",
              "      <td>PG</td>\n",
              "      <td>88 min</td>\n",
              "      <td>Children &amp; Family Movies, Comedies</td>\n",
              "      <td>Dragged from civilian life, a former superhero...</td>\n",
              "    </tr>\n",
              "    <tr>\n",
              "      <th>8806</th>\n",
              "      <td>s8807</td>\n",
              "      <td>Movie</td>\n",
              "      <td>Zubaan</td>\n",
              "      <td>Mozez Singh</td>\n",
              "      <td>Vicky Kaushal, Sarah-Jane Dias, Raaghav Chanan...</td>\n",
              "      <td>India</td>\n",
              "      <td>March 2, 2019</td>\n",
              "      <td>2015</td>\n",
              "      <td>TV-14</td>\n",
              "      <td>111 min</td>\n",
              "      <td>Dramas, International Movies, Music &amp; Musicals</td>\n",
              "      <td>A scrappy but poor boy worms his way into a ty...</td>\n",
              "    </tr>\n",
              "  </tbody>\n",
              "</table>\n",
              "<p>6131 rows × 12 columns</p>\n",
              "</div>\n",
              "      <button class=\"colab-df-convert\" onclick=\"convertToInteractive('df-0fe34233-9aff-455b-bbf2-021fe5fa9f68')\"\n",
              "              title=\"Convert this dataframe to an interactive table.\"\n",
              "              style=\"display:none;\">\n",
              "        \n",
              "  <svg xmlns=\"http://www.w3.org/2000/svg\" height=\"24px\"viewBox=\"0 0 24 24\"\n",
              "       width=\"24px\">\n",
              "    <path d=\"M0 0h24v24H0V0z\" fill=\"none\"/>\n",
              "    <path d=\"M18.56 5.44l.94 2.06.94-2.06 2.06-.94-2.06-.94-.94-2.06-.94 2.06-2.06.94zm-11 1L8.5 8.5l.94-2.06 2.06-.94-2.06-.94L8.5 2.5l-.94 2.06-2.06.94zm10 10l.94 2.06.94-2.06 2.06-.94-2.06-.94-.94-2.06-.94 2.06-2.06.94z\"/><path d=\"M17.41 7.96l-1.37-1.37c-.4-.4-.92-.59-1.43-.59-.52 0-1.04.2-1.43.59L10.3 9.45l-7.72 7.72c-.78.78-.78 2.05 0 2.83L4 21.41c.39.39.9.59 1.41.59.51 0 1.02-.2 1.41-.59l7.78-7.78 2.81-2.81c.8-.78.8-2.07 0-2.86zM5.41 20L4 18.59l7.72-7.72 1.47 1.35L5.41 20z\"/>\n",
              "  </svg>\n",
              "      </button>\n",
              "      \n",
              "  <style>\n",
              "    .colab-df-container {\n",
              "      display:flex;\n",
              "      flex-wrap:wrap;\n",
              "      gap: 12px;\n",
              "    }\n",
              "\n",
              "    .colab-df-convert {\n",
              "      background-color: #E8F0FE;\n",
              "      border: none;\n",
              "      border-radius: 50%;\n",
              "      cursor: pointer;\n",
              "      display: none;\n",
              "      fill: #1967D2;\n",
              "      height: 32px;\n",
              "      padding: 0 0 0 0;\n",
              "      width: 32px;\n",
              "    }\n",
              "\n",
              "    .colab-df-convert:hover {\n",
              "      background-color: #E2EBFA;\n",
              "      box-shadow: 0px 1px 2px rgba(60, 64, 67, 0.3), 0px 1px 3px 1px rgba(60, 64, 67, 0.15);\n",
              "      fill: #174EA6;\n",
              "    }\n",
              "\n",
              "    [theme=dark] .colab-df-convert {\n",
              "      background-color: #3B4455;\n",
              "      fill: #D2E3FC;\n",
              "    }\n",
              "\n",
              "    [theme=dark] .colab-df-convert:hover {\n",
              "      background-color: #434B5C;\n",
              "      box-shadow: 0px 1px 3px 1px rgba(0, 0, 0, 0.15);\n",
              "      filter: drop-shadow(0px 1px 2px rgba(0, 0, 0, 0.3));\n",
              "      fill: #FFFFFF;\n",
              "    }\n",
              "  </style>\n",
              "\n",
              "      <script>\n",
              "        const buttonEl =\n",
              "          document.querySelector('#df-0fe34233-9aff-455b-bbf2-021fe5fa9f68 button.colab-df-convert');\n",
              "        buttonEl.style.display =\n",
              "          google.colab.kernel.accessAllowed ? 'block' : 'none';\n",
              "\n",
              "        async function convertToInteractive(key) {\n",
              "          const element = document.querySelector('#df-0fe34233-9aff-455b-bbf2-021fe5fa9f68');\n",
              "          const dataTable =\n",
              "            await google.colab.kernel.invokeFunction('convertToInteractive',\n",
              "                                                     [key], {});\n",
              "          if (!dataTable) return;\n",
              "\n",
              "          const docLinkHtml = 'Like what you see? Visit the ' +\n",
              "            '<a target=\"_blank\" href=https://colab.research.google.com/notebooks/data_table.ipynb>data table notebook</a>'\n",
              "            + ' to learn more about interactive tables.';\n",
              "          element.innerHTML = '';\n",
              "          dataTable['output_type'] = 'display_data';\n",
              "          await google.colab.output.renderOutput(dataTable, element);\n",
              "          const docLink = document.createElement('div');\n",
              "          docLink.innerHTML = docLinkHtml;\n",
              "          element.appendChild(docLink);\n",
              "        }\n",
              "      </script>\n",
              "    </div>\n",
              "  </div>\n",
              "  "
            ]
          },
          "metadata": {},
          "execution_count": 56
        }
      ]
    },
    {
      "cell_type": "code",
      "source": [
        "#Yes our filter worked and we have new data frame with type movie "
      ],
      "metadata": {
        "id": "GmedRL5xMz0o"
      },
      "execution_count": null,
      "outputs": []
    },
    {
      "cell_type": "markdown",
      "source": [
        "# Problem 2): Use the code cells bellow to answer the following questions\n",
        "   1. How many entries are there in the 'Movies' subset?\n",
        "   2. What percentage of all Netflix entries are movies? \n",
        "   3. Create a new dataframe with only the TV shows\n",
        "   4. How many entries are there in the dataframe you created in 2.3?"
      ],
      "metadata": {
        "id": "xBtIP0ZoYQoR"
      }
    },
    {
      "cell_type": "code",
      "source": [
        "# Write code for 2.1 on this cell\n",
        "netflix_movies_df.shape[0]\n"
      ],
      "metadata": {
        "id": "IB5fmKecZUlv",
        "colab": {
          "base_uri": "https://localhost:8080/",
          "height": 183
        },
        "outputId": "cd4008d1-017e-4917-e52a-a75339440f23"
      },
      "execution_count": null,
      "outputs": [
        {
          "output_type": "error",
          "ename": "NameError",
          "evalue": "ignored",
          "traceback": [
            "\u001b[0;31m---------------------------------------------------------------------------\u001b[0m",
            "\u001b[0;31mNameError\u001b[0m                                 Traceback (most recent call last)",
            "\u001b[0;32m<ipython-input-1-1aed3734db8a>\u001b[0m in \u001b[0;36m<module>\u001b[0;34m\u001b[0m\n\u001b[1;32m      1\u001b[0m \u001b[0;31m# Write code for 2.1 on this cell\u001b[0m\u001b[0;34m\u001b[0m\u001b[0;34m\u001b[0m\u001b[0m\n\u001b[0;32m----> 2\u001b[0;31m \u001b[0mnetflix_movies_df\u001b[0m\u001b[0;34m.\u001b[0m\u001b[0mshape\u001b[0m\u001b[0;34m[\u001b[0m\u001b[0;36m0\u001b[0m\u001b[0;34m]\u001b[0m\u001b[0;34m\u001b[0m\u001b[0;34m\u001b[0m\u001b[0m\n\u001b[0m",
            "\u001b[0;31mNameError\u001b[0m: name 'netflix_movies_df' is not defined"
          ]
        }
      ]
    },
    {
      "cell_type": "code",
      "source": [
        "# Write code for 2.2 on this cell\n",
        "\n",
        "netflix_movies_df.shape[0] /netflix_titles_df.shape[0]  * 100"
      ],
      "metadata": {
        "id": "jNdrvBfXZfvZ"
      },
      "execution_count": null,
      "outputs": []
    },
    {
      "cell_type": "code",
      "source": [
        "# Write code for 2.3 on this cell\n",
        "\n",
        "# Cheking the condition for each row and storing it on the variable movie_condition\n",
        "tvshow_condition = netflix_titles_df[\"type\"]==\"TV Show\"\n",
        "# Filtering the original dataframe using the condition and assigning the new dataframe to be the new content of the netflix_movies_df dataframe variable\n",
        "netflix_tvshow_df = netflix_titles_df[tvshow_condition]"
      ],
      "metadata": {
        "id": "o2Qp7cEbZXU7"
      },
      "execution_count": null,
      "outputs": []
    },
    {
      "cell_type": "code",
      "source": [
        "# Write code for 2.4 on this cell\n",
        "netflix_tvshow_df.shape[0]\n"
      ],
      "metadata": {
        "id": "JOBRpDMmY0-c"
      },
      "execution_count": null,
      "outputs": []
    },
    {
      "cell_type": "markdown",
      "source": [
        "# Plotting"
      ],
      "metadata": {
        "id": "RhrR6N3abjs9"
      }
    },
    {
      "cell_type": "code",
      "source": [
        "import matplotlib\n",
        "import seaborn as sns\n",
        "import matplotlib.pyplot as plt\n",
        "from matplotlib.pyplot import figure"
      ],
      "metadata": {
        "id": "ZFqQ7rhqbiqN"
      },
      "execution_count": null,
      "outputs": []
    },
    {
      "cell_type": "code",
      "source": [
        "# We can create a histogram of the \"type\" column from the NetflixTitles_df using the following code\n",
        "plt.figure(figsize = (10,8))\n",
        "sns.countplot(data = netflix_titles_df, x = \"type\")"
      ],
      "metadata": {
        "id": "r00PE3h8Zzkb",
        "colab": {
          "base_uri": "https://localhost:8080/",
          "height": 514
        },
        "outputId": "1d642bdc-6f97-45a5-c788-154f9c7d0582"
      },
      "execution_count": null,
      "outputs": [
        {
          "output_type": "execute_result",
          "data": {
            "text/plain": [
              "<Axes: xlabel='type', ylabel='count'>"
            ]
          },
          "metadata": {},
          "execution_count": 34
        },
        {
          "output_type": "display_data",
          "data": {
            "text/plain": [
              "<Figure size 720x576 with 1 Axes>"
            ],
            "image/png": "[encoded data removed]"
          },
          "metadata": {
            "needs_background": "light"
          }
        }
      ]
    },
    {
      "cell_type": "markdown",
      "source": [
        "# Problem 3) Write code to answer the following questions using the code cells bellow\n",
        "1. What are all the possible ratings that are listed?\n",
        "2. What's the distribution of ratings in Netflix Movies?\n",
        "3. What is the distribution of ratings in Netflix TV shows? \n",
        "4. What is the distrubtion of \"seasons\" for the Neflix TV shows? \n",
        "5. Make a new dataframe named **netflix_us_titles_df** from the Netflix_movie_df and filter it ONLY for US movies \n"
      ],
      "metadata": {
        "id": "y__1q-UOaZv8"
      }
    },
    {
      "cell_type": "code",
      "source": [
        "# Write code to answer 3.1 on this cell\n",
        "\n",
        "netflix_titles_df['rating'].unique()\n"
      ],
      "metadata": {
        "id": "obwmK8jrauwC",
        "colab": {
          "base_uri": "https://localhost:8080/"
        },
        "outputId": "e62ad6c0-ed60-44f1-a479-54d8307c6018"
      },
      "execution_count": null,
      "outputs": [
        {
          "output_type": "execute_result",
          "data": {
            "text/plain": [
              "array(['PG-13', 'TV-MA', 'PG', 'TV-14', 'TV-PG', 'TV-Y', 'TV-Y7', 'R',\n",
              "       'TV-G', 'G', 'NC-17', '74 min', '84 min', '66 min', 'NR', nan,\n",
              "       'TV-Y7-FV', 'UR'], dtype=object)"
            ]
          },
          "metadata": {},
          "execution_count": 35
        }
      ]
    },
    {
      "cell_type": "code",
      "source": [
        "# Write code to answer 3.2 on this cell\n",
        "# Hint: Your code should make a histogram plot similar to the one in the example above\n",
        "plt.figure(figsize = (10,8))\n",
        "sns.countplot(data = netflix_movies_df, x = \"rating\")\n"
      ],
      "metadata": {
        "id": "pu6AM6pfcT7P",
        "colab": {
          "base_uri": "https://localhost:8080/",
          "height": 514
        },
        "outputId": "39f80ba8-48c5-4907-8cf5-c674cbd894ab"
      },
      "execution_count": null,
      "outputs": [
        {
          "output_type": "execute_result",
          "data": {
            "text/plain": [
              "<Axes: xlabel='rating', ylabel='count'>"
            ]
          },
          "metadata": {},
          "execution_count": 36
        },
        {
          "output_type": "display_data",
          "data": {
            "text/plain": [
              "<Figure size 720x576 with 1 Axes>"
            ],
            "image/png": "[encoded data removed]"
          },
          "metadata": {
            "needs_background": "light"
          }
        }
      ]
    },
    {
      "cell_type": "code",
      "source": [
        "# Write code to answer 3.3 on this cell\n",
        "# Hint: Your code should make a histogram plot similar to the one in the example above\n",
        "\n",
        "plt.figure(figsize = (10,8))\n",
        "sns.countplot(data = netflix_tvshow_df, x = \"rating\")\n"
      ],
      "metadata": {
        "id": "brQtZFtediVU",
        "colab": {
          "base_uri": "https://localhost:8080/",
          "height": 517
        },
        "outputId": "3ae1d7a9-a8e3-4fe3-ca43-d48b2111be85"
      },
      "execution_count": null,
      "outputs": [
        {
          "output_type": "execute_result",
          "data": {
            "text/plain": [
              "<Axes: xlabel='rating', ylabel='count'>"
            ]
          },
          "metadata": {},
          "execution_count": 37
        },
        {
          "output_type": "display_data",
          "data": {
            "text/plain": [
              "<Figure size 720x576 with 1 Axes>"
            ],
            "image/png": "[encoded data removed]"
          },
          "metadata": {
            "needs_background": "light"
          }
        }
      ]
    },
    {
      "cell_type": "code",
      "source": [
        "# Write code to answer 3.4 on this cell\n",
        "# Hint: Your code should make a histogram plot similar to the one in the example above\n",
        "filename = 'DSC1010Data/netflix_titles.csv'\n",
        "netflix_titles_df = pd.read_csv(filename)\n",
        "\n",
        "tv_shows = netflix_titles_df[netflix_titles_df[\"type\"] == \"TV Show\"]\n",
        "\n",
        "season_counts = tv_shows[\"duration\"].value_counts()\n",
        "\n",
        "plt.figure(figsize = (10,10))\n",
        "sns.countplot( x = season_counts)\n",
        "\n"
      ],
      "metadata": {
        "id": "mSYLGUa3eSNt",
        "colab": {
          "base_uri": "https://localhost:8080/",
          "height": 623
        },
        "outputId": "d8e76bc5-69ba-4e1f-b94e-5f94e6e3b353"
      },
      "execution_count": null,
      "outputs": [
        {
          "output_type": "execute_result",
          "data": {
            "text/plain": [
              "<Axes: xlabel='duration', ylabel='count'>"
            ]
          },
          "metadata": {},
          "execution_count": 38
        },
        {
          "output_type": "display_data",
          "data": {
            "text/plain": [
              "<Figure size 720x720 with 1 Axes>"
            ],
            "image/png": "[encoded data removed]"
          },
          "metadata": {
            "needs_background": "light"
          }
        }
      ]
    },
    {
      "cell_type": "code",
      "source": [
        "# Write code to answer 3.5 on this cell\n",
        "# Hint: look for places in where 'country' = \"United States\"\n",
        "\n",
        "\n",
        "country_condition = netflix_movies_df[\"country\"]==\"United States\"\n",
        "\n",
        "netflix_countryUS_df = netflix_movies_df[country_condition]\n",
        "netflix_countryUS_df"
      ],
      "metadata": {
        "id": "nZhGH3xrAaMJ",
        "colab": {
          "base_uri": "https://localhost:8080/",
          "height": 798
        },
        "outputId": "3e6fff9a-e403-4484-ce72-85ea461196e0"
      },
      "execution_count": null,
      "outputs": [
        {
          "output_type": "execute_result",
          "data": {
            "text/plain": [
              "     show_id   type                 title          director  \\\n",
              "0         s1  Movie  Dick Johnson Is Dead   Kirsten Johnson   \n",
              "9        s10  Movie          The Starling    Theodore Melfi   \n",
              "27       s28  Movie             Grown Ups      Dennis Dugan   \n",
              "28       s29  Movie            Dark Skies     Scott Stewart   \n",
              "41       s42  Movie                  Jaws  Steven Spielberg   \n",
              "...      ...    ...                   ...               ...   \n",
              "8791   s8792  Movie           Young Adult     Jason Reitman   \n",
              "8793   s8794  Movie  Yours, Mine and Ours      Raja Gosnell   \n",
              "8802   s8803  Movie                Zodiac     David Fincher   \n",
              "8804   s8805  Movie            Zombieland   Ruben Fleischer   \n",
              "8805   s8806  Movie                  Zoom      Peter Hewitt   \n",
              "\n",
              "                                                   cast        country  \\\n",
              "0                                                   NaN  United States   \n",
              "9     Melissa McCarthy, Chris O'Dowd, Kevin Kline, T...  United States   \n",
              "27    Adam Sandler, Kevin James, Chris Rock, David S...  United States   \n",
              "28    Keri Russell, Josh Hamilton, J.K. Simmons, Dak...  United States   \n",
              "41    Roy Scheider, Robert Shaw, Richard Dreyfuss, L...  United States   \n",
              "...                                                 ...            ...   \n",
              "8791  Charlize Theron, Patton Oswalt, Patrick Wilson...  United States   \n",
              "8793  Dennis Quaid, Rene Russo, Sean Faris, Katija P...  United States   \n",
              "8802  Mark Ruffalo, Jake Gyllenhaal, Robert Downey J...  United States   \n",
              "8804  Jesse Eisenberg, Woody Harrelson, Emma Stone, ...  United States   \n",
              "8805  Tim Allen, Courteney Cox, Chevy Chase, Kate Ma...  United States   \n",
              "\n",
              "              date_added  release_year rating duration  \\\n",
              "0     September 25, 2021          2020  PG-13   90 min   \n",
              "9     September 24, 2021          2021  PG-13  104 min   \n",
              "27    September 20, 2021          2010  PG-13  103 min   \n",
              "28    September 19, 2021          2013  PG-13   97 min   \n",
              "41    September 16, 2021          1975     PG  124 min   \n",
              "...                  ...           ...    ...      ...   \n",
              "8791   November 20, 2019          2011      R   94 min   \n",
              "8793   November 20, 2019          2005     PG   88 min   \n",
              "8802   November 20, 2019          2007      R  158 min   \n",
              "8804    November 1, 2019          2009      R   88 min   \n",
              "8805    January 11, 2020          2006     PG   88 min   \n",
              "\n",
              "                                       listed_in  \\\n",
              "0                                  Documentaries   \n",
              "9                               Comedies, Dramas   \n",
              "27                                      Comedies   \n",
              "28               Horror Movies, Sci-Fi & Fantasy   \n",
              "41    Action & Adventure, Classic Movies, Dramas   \n",
              "...                                          ...   \n",
              "8791        Comedies, Dramas, Independent Movies   \n",
              "8793          Children & Family Movies, Comedies   \n",
              "8802              Cult Movies, Dramas, Thrillers   \n",
              "8804                     Comedies, Horror Movies   \n",
              "8805          Children & Family Movies, Comedies   \n",
              "\n",
              "                                            description  \n",
              "0     As her father nears the end of his life, filmm...  \n",
              "9     A woman adjusting to life after a loss contend...  \n",
              "27    Mourning the loss of their beloved junior high...  \n",
              "28    A family’s idyllic suburban life shatters when...  \n",
              "41    When an insatiable great white shark terrorize...  \n",
              "...                                                 ...  \n",
              "8791  When a divorced writer gets a letter from an o...  \n",
              "8793  When a father of eight and a mother of 10 prep...  \n",
              "8802  A political cartoonist, a crime reporter and a...  \n",
              "8804  Looking to survive in a world taken over by zo...  \n",
              "8805  Dragged from civilian life, a former superhero...  \n",
              "\n",
              "[2058 rows x 12 columns]"
            ],
            "text/html": [
              "\n",
              "  <div id=\"df-74acf663-2806-42f6-9f8a-5d8c08290ec1\">\n",
              "    <div class=\"colab-df-container\">\n",
              "      <div>\n",
              "<style scoped>\n",
              "    .dataframe tbody tr th:only-of-type {\n",
              "        vertical-align: middle;\n",
              "    }\n",
              "\n",
              "    .dataframe tbody tr th {\n",
              "        vertical-align: top;\n",
              "    }\n",
              "\n",
              "    .dataframe thead th {\n",
              "        text-align: right;\n",
              "    }\n",
              "</style>\n",
              "<table border=\"1\" class=\"dataframe\">\n",
              "  <thead>\n",
              "    <tr style=\"text-align: right;\">\n",
              "      <th></th>\n",
              "      <th>show_id</th>\n",
              "      <th>type</th>\n",
              "      <th>title</th>\n",
              "      <th>director</th>\n",
              "      <th>cast</th>\n",
              "      <th>country</th>\n",
              "      <th>date_added</th>\n",
              "      <th>release_year</th>\n",
              "      <th>rating</th>\n",
              "      <th>duration</th>\n",
              "      <th>listed_in</th>\n",
              "      <th>description</th>\n",
              "    </tr>\n",
              "  </thead>\n",
              "  <tbody>\n",
              "    <tr>\n",
              "      <th>0</th>\n",
              "      <td>s1</td>\n",
              "      <td>Movie</td>\n",
              "      <td>Dick Johnson Is Dead</td>\n",
              "      <td>Kirsten Johnson</td>\n",
              "      <td>NaN</td>\n",
              "      <td>United States</td>\n",
              "      <td>September 25, 2021</td>\n",
              "      <td>2020</td>\n",
              "      <td>PG-13</td>\n",
              "      <td>90 min</td>\n",
              "      <td>Documentaries</td>\n",
              "      <td>As her father nears the end of his life, filmm...</td>\n",
              "    </tr>\n",
              "    <tr>\n",
              "      <th>9</th>\n",
              "      <td>s10</td>\n",
              "      <td>Movie</td>\n",
              "      <td>The Starling</td>\n",
              "      <td>Theodore Melfi</td>\n",
              "      <td>Melissa McCarthy, Chris O'Dowd, Kevin Kline, T...</td>\n",
              "      <td>United States</td>\n",
              "      <td>September 24, 2021</td>\n",
              "      <td>2021</td>\n",
              "      <td>PG-13</td>\n",
              "      <td>104 min</td>\n",
              "      <td>Comedies, Dramas</td>\n",
              "      <td>A woman adjusting to life after a loss contend...</td>\n",
              "    </tr>\n",
              "    <tr>\n",
              "      <th>27</th>\n",
              "      <td>s28</td>\n",
              "      <td>Movie</td>\n",
              "      <td>Grown Ups</td>\n",
              "      <td>Dennis Dugan</td>\n",
              "      <td>Adam Sandler, Kevin James, Chris Rock, David S...</td>\n",
              "      <td>United States</td>\n",
              "      <td>September 20, 2021</td>\n",
              "      <td>2010</td>\n",
              "      <td>PG-13</td>\n",
              "      <td>103 min</td>\n",
              "      <td>Comedies</td>\n",
              "      <td>Mourning the loss of their beloved junior high...</td>\n",
              "    </tr>\n",
              "    <tr>\n",
              "      <th>28</th>\n",
              "      <td>s29</td>\n",
              "      <td>Movie</td>\n",
              "      <td>Dark Skies</td>\n",
              "      <td>Scott Stewart</td>\n",
              "      <td>Keri Russell, Josh Hamilton, J.K. Simmons, Dak...</td>\n",
              "      <td>United States</td>\n",
              "      <td>September 19, 2021</td>\n",
              "      <td>2013</td>\n",
              "      <td>PG-13</td>\n",
              "      <td>97 min</td>\n",
              "      <td>Horror Movies, Sci-Fi &amp; Fantasy</td>\n",
              "      <td>A family’s idyllic suburban life shatters when...</td>\n",
              "    </tr>\n",
              "    <tr>\n",
              "      <th>41</th>\n",
              "      <td>s42</td>\n",
              "      <td>Movie</td>\n",
              "      <td>Jaws</td>\n",
              "      <td>Steven Spielberg</td>\n",
              "      <td>Roy Scheider, Robert Shaw, Richard Dreyfuss, L...</td>\n",
              "      <td>United States</td>\n",
              "      <td>September 16, 2021</td>\n",
              "      <td>1975</td>\n",
              "      <td>PG</td>\n",
              "      <td>124 min</td>\n",
              "      <td>Action &amp; Adventure, Classic Movies, Dramas</td>\n",
              "      <td>When an insatiable great white shark terrorize...</td>\n",
              "    </tr>\n",
              "    <tr>\n",
              "      <th>...</th>\n",
              "      <td>...</td>\n",
              "      <td>...</td>\n",
              "      <td>...</td>\n",
              "      <td>...</td>\n",
              "      <td>...</td>\n",
              "      <td>...</td>\n",
              "      <td>...</td>\n",
              "      <td>...</td>\n",
              "      <td>...</td>\n",
              "      <td>...</td>\n",
              "      <td>...</td>\n",
              "      <td>...</td>\n",
              "    </tr>\n",
              "    <tr>\n",
              "      <th>8791</th>\n",
              "      <td>s8792</td>\n",
              "      <td>Movie</td>\n",
              "      <td>Young Adult</td>\n",
              "      <td>Jason Reitman</td>\n",
              "      <td>Charlize Theron, Patton Oswalt, Patrick Wilson...</td>\n",
              "      <td>United States</td>\n",
              "      <td>November 20, 2019</td>\n",
              "      <td>2011</td>\n",
              "      <td>R</td>\n",
              "      <td>94 min</td>\n",
              "      <td>Comedies, Dramas, Independent Movies</td>\n",
              "      <td>When a divorced writer gets a letter from an o...</td>\n",
              "    </tr>\n",
              "    <tr>\n",
              "      <th>8793</th>\n",
              "      <td>s8794</td>\n",
              "      <td>Movie</td>\n",
              "      <td>Yours, Mine and Ours</td>\n",
              "      <td>Raja Gosnell</td>\n",
              "      <td>Dennis Quaid, Rene Russo, Sean Faris, Katija P...</td>\n",
              "      <td>United States</td>\n",
              "      <td>November 20, 2019</td>\n",
              "      <td>2005</td>\n",
              "      <td>PG</td>\n",
              "      <td>88 min</td>\n",
              "      <td>Children &amp; Family Movies, Comedies</td>\n",
              "      <td>When a father of eight and a mother of 10 prep...</td>\n",
              "    </tr>\n",
              "    <tr>\n",
              "      <th>8802</th>\n",
              "      <td>s8803</td>\n",
              "      <td>Movie</td>\n",
              "      <td>Zodiac</td>\n",
              "      <td>David Fincher</td>\n",
              "      <td>Mark Ruffalo, Jake Gyllenhaal, Robert Downey J...</td>\n",
              "      <td>United States</td>\n",
              "      <td>November 20, 2019</td>\n",
              "      <td>2007</td>\n",
              "      <td>R</td>\n",
              "      <td>158 min</td>\n",
              "      <td>Cult Movies, Dramas, Thrillers</td>\n",
              "      <td>A political cartoonist, a crime reporter and a...</td>\n",
              "    </tr>\n",
              "    <tr>\n",
              "      <th>8804</th>\n",
              "      <td>s8805</td>\n",
              "      <td>Movie</td>\n",
              "      <td>Zombieland</td>\n",
              "      <td>Ruben Fleischer</td>\n",
              "      <td>Jesse Eisenberg, Woody Harrelson, Emma Stone, ...</td>\n",
              "      <td>United States</td>\n",
              "      <td>November 1, 2019</td>\n",
              "      <td>2009</td>\n",
              "      <td>R</td>\n",
              "      <td>88 min</td>\n",
              "      <td>Comedies, Horror Movies</td>\n",
              "      <td>Looking to survive in a world taken over by zo...</td>\n",
              "    </tr>\n",
              "    <tr>\n",
              "      <th>8805</th>\n",
              "      <td>s8806</td>\n",
              "      <td>Movie</td>\n",
              "      <td>Zoom</td>\n",
              "      <td>Peter Hewitt</td>\n",
              "      <td>Tim Allen, Courteney Cox, Chevy Chase, Kate Ma...</td>\n",
              "      <td>United States</td>\n",
              "      <td>January 11, 2020</td>\n",
              "      <td>2006</td>\n",
              "      <td>PG</td>\n",
              "      <td>88 min</td>\n",
              "      <td>Children &amp; Family Movies, Comedies</td>\n",
              "      <td>Dragged from civilian life, a former superhero...</td>\n",
              "    </tr>\n",
              "  </tbody>\n",
              "</table>\n",
              "<p>2058 rows × 12 columns</p>\n",
              "</div>\n",
              "      <button class=\"colab-df-convert\" onclick=\"convertToInteractive('df-74acf663-2806-42f6-9f8a-5d8c08290ec1')\"\n",
              "              title=\"Convert this dataframe to an interactive table.\"\n",
              "              style=\"display:none;\">\n",
              "        \n",
              "  <svg xmlns=\"http://www.w3.org/2000/svg\" height=\"24px\"viewBox=\"0 0 24 24\"\n",
              "       width=\"24px\">\n",
              "    <path d=\"M0 0h24v24H0V0z\" fill=\"none\"/>\n",
              "    <path d=\"M18.56 5.44l.94 2.06.94-2.06 2.06-.94-2.06-.94-.94-2.06-.94 2.06-2.06.94zm-11 1L8.5 8.5l.94-2.06 2.06-.94-2.06-.94L8.5 2.5l-.94 2.06-2.06.94zm10 10l.94 2.06.94-2.06 2.06-.94-2.06-.94-.94-2.06-.94 2.06-2.06.94z\"/><path d=\"M17.41 7.96l-1.37-1.37c-.4-.4-.92-.59-1.43-.59-.52 0-1.04.2-1.43.59L10.3 9.45l-7.72 7.72c-.78.78-.78 2.05 0 2.83L4 21.41c.39.39.9.59 1.41.59.51 0 1.02-.2 1.41-.59l7.78-7.78 2.81-2.81c.8-.78.8-2.07 0-2.86zM5.41 20L4 18.59l7.72-7.72 1.47 1.35L5.41 20z\"/>\n",
              "  </svg>\n",
              "      </button>\n",
              "      \n",
              "  <style>\n",
              "    .colab-df-container {\n",
              "      display:flex;\n",
              "      flex-wrap:wrap;\n",
              "      gap: 12px;\n",
              "    }\n",
              "\n",
              "    .colab-df-convert {\n",
              "      background-color: #E8F0FE;\n",
              "      border: none;\n",
              "      border-radius: 50%;\n",
              "      cursor: pointer;\n",
              "      display: none;\n",
              "      fill: #1967D2;\n",
              "      height: 32px;\n",
              "      padding: 0 0 0 0;\n",
              "      width: 32px;\n",
              "    }\n",
              "\n",
              "    .colab-df-convert:hover {\n",
              "      background-color: #E2EBFA;\n",
              "      box-shadow: 0px 1px 2px rgba(60, 64, 67, 0.3), 0px 1px 3px 1px rgba(60, 64, 67, 0.15);\n",
              "      fill: #174EA6;\n",
              "    }\n",
              "\n",
              "    [theme=dark] .colab-df-convert {\n",
              "      background-color: #3B4455;\n",
              "      fill: #D2E3FC;\n",
              "    }\n",
              "\n",
              "    [theme=dark] .colab-df-convert:hover {\n",
              "      background-color: #434B5C;\n",
              "      box-shadow: 0px 1px 3px 1px rgba(0, 0, 0, 0.15);\n",
              "      filter: drop-shadow(0px 1px 2px rgba(0, 0, 0, 0.3));\n",
              "      fill: #FFFFFF;\n",
              "    }\n",
              "  </style>\n",
              "\n",
              "      <script>\n",
              "        const buttonEl =\n",
              "          document.querySelector('#df-74acf663-2806-42f6-9f8a-5d8c08290ec1 button.colab-df-convert');\n",
              "        buttonEl.style.display =\n",
              "          google.colab.kernel.accessAllowed ? 'block' : 'none';\n",
              "\n",
              "        async function convertToInteractive(key) {\n",
              "          const element = document.querySelector('#df-74acf663-2806-42f6-9f8a-5d8c08290ec1');\n",
              "          const dataTable =\n",
              "            await google.colab.kernel.invokeFunction('convertToInteractive',\n",
              "                                                     [key], {});\n",
              "          if (!dataTable) return;\n",
              "\n",
              "          const docLinkHtml = 'Like what you see? Visit the ' +\n",
              "            '<a target=\"_blank\" href=https://colab.research.google.com/notebooks/data_table.ipynb>data table notebook</a>'\n",
              "            + ' to learn more about interactive tables.';\n",
              "          element.innerHTML = '';\n",
              "          dataTable['output_type'] = 'display_data';\n",
              "          await google.colab.output.renderOutput(dataTable, element);\n",
              "          const docLink = document.createElement('div');\n",
              "          docLink.innerHTML = docLinkHtml;\n",
              "          element.appendChild(docLink);\n",
              "        }\n",
              "      </script>\n",
              "    </div>\n",
              "  </div>\n",
              "  "
            ]
          },
          "metadata": {},
          "execution_count": 39
        }
      ]
    },
    {
      "cell_type": "markdown",
      "source": [
        "# Values counts\n"
      ],
      "metadata": {
        "id": "loR4gPhtal3-"
      }
    },
    {
      "cell_type": "markdown",
      "source": [
        "The value_counts() function will list how frequent the entries of a certain column are. See an example below:"
      ],
      "metadata": {
        "id": "Ba40DGadaqYP"
      }
    },
    {
      "cell_type": "code",
      "source": [
        "netflix_titles_df['country'].value_counts()"
      ],
      "metadata": {
        "id": "XCIdE2dBxxOk",
        "colab": {
          "base_uri": "https://localhost:8080/"
        },
        "outputId": "b2be32a4-1844-425e-d4d1-6f266b9c84ba"
      },
      "execution_count": null,
      "outputs": [
        {
          "output_type": "execute_result",
          "data": {
            "text/plain": [
              "United States                             2818\n",
              "India                                      972\n",
              "United Kingdom                             419\n",
              "Japan                                      245\n",
              "South Korea                                199\n",
              "                                          ... \n",
              "Romania, Bulgaria, Hungary                   1\n",
              "Uruguay, Guatemala                           1\n",
              "France, Senegal, Belgium                     1\n",
              "Mexico, United States, Spain, Colombia       1\n",
              "United Arab Emirates, Jordan                 1\n",
              "Name: country, Length: 748, dtype: int64"
            ]
          },
          "metadata": {},
          "execution_count": 40
        }
      ]
    },
    {
      "cell_type": "markdown",
      "source": [
        "#Task g): What are the most popular release years for Netflix media? "
      ],
      "metadata": {
        "id": "wC3zRKqwdI0p"
      }
    },
    {
      "cell_type": "markdown",
      "source": [
        "\n",
        "\n",
        "Read the following explanation of the code in the next code cell.\n",
        "We can use value_counts in a countplot \n",
        "* y = 'release_year' tells which series(column) from the DF I want. Also used as the y label of the plot\n",
        "* data = netflix_titles_df is where to look for that column\n",
        "* order = NetflixTitles['release_year'].value_counts().index[0:15]\n",
        "  The order is what ranks the values of the series by how many counts each year has\n",
        "* the .index[0:15] says to only show the first 0-15 entries on the plot\n",
        "\n",
        "Now that you have an idea ofwhat the line of code does, run the code cell below as inspect the output"
      ],
      "metadata": {
        "id": "dNV_F5Vdbvoe"
      }
    },
    {
      "cell_type": "code",
      "source": [
        "sns.countplot(y=\"release_year\", data=netflix_titles_df, order=netflix_titles_df['release_year'].value_counts().index[0:15])"
      ],
      "metadata": {
        "id": "1OcF7Y9YyYrZ",
        "colab": {
          "base_uri": "https://localhost:8080/",
          "height": 296
        },
        "outputId": "6e2150e8-70bf-4316-d1ef-f1da2a671722"
      },
      "execution_count": null,
      "outputs": [
        {
          "output_type": "execute_result",
          "data": {
            "text/plain": [
              "<Axes: xlabel='count', ylabel='release_year'>"
            ]
          },
          "metadata": {},
          "execution_count": 41
        },
        {
          "output_type": "display_data",
          "data": {
            "text/plain": [
              "<Figure size 432x288 with 1 Axes>"
            ],
            "image/png": "[encoded data removed]"
          },
          "metadata": {
            "needs_background": "light"
          }
        }
      ]
    },
    {
      "cell_type": "markdown",
      "source": [
        "# Problem 4): \n"
      ],
      "metadata": {
        "id": "vHlglRXxdMfb"
      }
    },
    {
      "cell_type": "markdown",
      "source": [
        "Make a countplot like the one done in task g for **netflix_US_titles_df** (The one you creted in problem 3.5) for the ratings so see what are common movie ratings in the US.\n",
        "\n",
        "**Hint:** It is a modified version of the line of code from task h"
      ],
      "metadata": {
        "id": "xR4Pt-4JdStS"
      }
    },
    {
      "cell_type": "code",
      "source": [
        "# Write the code for problem 4 on this code cell\n",
        "\n",
        "sns.countplot(y=\"rating\", data=netflix_countryUS_df, order=netflix_countryUS_df['rating'].value_counts().index[0:15])"
      ],
      "metadata": {
        "id": "-9oCX2_wDjAP",
        "colab": {
          "base_uri": "https://localhost:8080/",
          "height": 296
        },
        "outputId": "35619d0c-b95f-431e-ec6a-4124e750f29d"
      },
      "execution_count": null,
      "outputs": [
        {
          "output_type": "execute_result",
          "data": {
            "text/plain": [
              "<Axes: xlabel='count', ylabel='rating'>"
            ]
          },
          "metadata": {},
          "execution_count": 42
        },
        {
          "output_type": "display_data",
          "data": {
            "text/plain": [
              "<Figure size 432x288 with 1 Axes>"
            ],
            "image/png": "[encoded data removed]"
          },
          "metadata": {
            "needs_background": "light"
          }
        }
      ]
    },
    {
      "cell_type": "markdown",
      "source": [
        "# Extra Credit Task (+7 points)"
      ],
      "metadata": {
        "id": "Zn5c6MQXdyTJ"
      }
    },
    {
      "cell_type": "markdown",
      "source": [
        "1. (5 points) Repeat problem 4 for India (the country with the second most titles) and see what their ratings distribution looks like.\n",
        "Hint: You will need to create a new dataframe like you did in 3.5 \n",
        "\n",
        "\n",
        "2. (2 points) What is the difference between the plot from problem 5 and the one from Extra credit? "
      ],
      "metadata": {
        "id": "zIbx0873d4LZ"
      }
    },
    {
      "cell_type": "code",
      "source": [
        "# Write your code to answer the exra credit on this code cell\n",
        "country_condition = netflix_movies_df[\"country\"]==\"India\"\n",
        "\n",
        "netflix_countryindia_df = netflix_movies_df[country_condition]\n",
        "\n",
        "\n"
      ],
      "metadata": {
        "id": "eQadFphQDv2U"
      },
      "execution_count": null,
      "outputs": []
    },
    {
      "cell_type": "code",
      "source": [
        "sns.countplot(y=\"rating\", data=netflix_countryindia_df, order=netflix_countryindia_df['rating'].value_counts().index[0:15])"
      ],
      "metadata": {
        "colab": {
          "base_uri": "https://localhost:8080/",
          "height": 296
        },
        "id": "4Zz48yrbQVGQ",
        "outputId": "718c1c1a-43d8-494f-ce5e-ad5413f20c62"
      },
      "execution_count": null,
      "outputs": [
        {
          "output_type": "execute_result",
          "data": {
            "text/plain": [
              "<Axes: xlabel='count', ylabel='rating'>"
            ]
          },
          "metadata": {},
          "execution_count": 44
        },
        {
          "output_type": "display_data",
          "data": {
            "text/plain": [
              "<Figure size 432x288 with 1 Axes>"
            ],
            "image/png": "[encoded data removed]"
          },
          "metadata": {
            "needs_background": "light"
          }
        }
      ]
    },
    {
      "cell_type": "markdown",
      "metadata": {
        "id": "TLWmgEmqW3Qt"
      },
      "source": [
        "# Data documentation\n",
        "\n",
        "We should also determine whether or not there is any documentation for the data concerning its origin, any editing along the way ... and the contents of the data. \n",
        "\n",
        "In our case, Kaggle includes a brief overview and description of their datasets provided by each contributor.\n",
        "\n",
        "https://www.kaggle.com/shivamb/netflix-shows\n",
        "\n",
        "Make note of any additional helpful information. Information about this dataset will be asked on test 2.\n"
      ]
    },
    {
      "cell_type": "markdown",
      "metadata": {
        "id": "ar3d47uYgTrH"
      },
      "source": [
        "#### Contents: \n",
        "This dataset consists of tv shows and movies available on Netflix as of 2019. \n",
        "\n",
        "#### Origin: \n",
        "The dataset is collected from Flixable which is a third-party Netflix search engine.\n",
        "\n",
        "#### Additional information:\n",
        "In 2018, they released an interesting report which shows that the number of TV shows on Netflix has nearly tripled since 2010. The streaming service’s number of movies has decreased by more than 2,000 titles since 2010, while its number of TV shows has nearly tripled. It will be interesting to explore what all other insights can be obtained from the same dataset.\n",
        "\n",
        "#### Suggestions for additional related data: \n",
        "Integrating this dataset with other external datasets such as IMDB ratings, rotten tomatoes can also provide many interesting findings.\n",
        "\n",
        "#### Suggested questions/tasks:\n",
        "Understanding what content is available in different countries\n",
        "\n",
        "Identifying similar content by matching text-based features\n",
        "\n",
        "Network analysis of Actors / Directors and find interesting insights\n",
        "\n",
        "Has Netflix increasingly focused on TV rather than movies in recent years?"
      ]
    },
    {
      "cell_type": "markdown",
      "metadata": {
        "id": "tipEGI--jYlR"
      },
      "source": [
        "\n",
        "# Questions to Ponder\n",
        "\n",
        "Answer on this text cell underneath each question presented:\n",
        "\n",
        "Which of the following questions could be explored using this data? ... and which ones could not? \n",
        "For those that could not, describe the additional data and/or effort that would be necessary to complete the task desired.\n",
        "\n",
        "1. Which category of Movie and/or TV Show is represented most on Netflix?\n",
        "\n",
        "2. What is the average length of a movie on Netflix by category?\n",
        "\n",
        "3. What are the most popular TV Shows on Netflix? Which are the best?\n",
        "\n",
        "4. Which of the movies or TV shows deal with a particular theme/issue (as chosen by the one exploring the data)?\n",
        "\n",
        "5. Which of the movies or TV shows has a female lead character?\n",
        "\n",
        "6. Determine which cast members appear in multiple movies and/or TV shows. Who is in the most productions?\n",
        "\n",
        "7. Determine which productions have female and/or non-white directors."
      ]
    },
    {
      "cell_type": "code",
      "source": [
        "#Q1\n",
        "# load the dataset\n",
        "filename = 'DSC1010Data/netflix_titles.csv'\n",
        "netflix_titles_df = pd.read_csv(filename)\n",
        "\n",
        "# count the number of movies and TV shows in each genre\n",
        "genres_count = netflix_titles_df['listed_in'].value_counts()\n",
        "\n",
        "# print the top 5 genres with the highest counts\n",
        "print(genres_count.head(5))\n",
        "\n",
        "# From this, we can see that \"Dramas, International Movies\" is the category that is represented the most on Netflix,\n",
        "# followed by \""
      ],
      "metadata": {
        "colab": {
          "base_uri": "https://localhost:8080/"
        },
        "id": "YfoF7CE8Ql09",
        "outputId": "83530bad-0096-4136-bf52-c85853008e07"
      },
      "execution_count": null,
      "outputs": [
        {
          "output_type": "stream",
          "name": "stdout",
          "text": [
            "Dramas, International Movies                        362\n",
            "Documentaries                                       359\n",
            "Stand-Up Comedy                                     334\n",
            "Comedies, Dramas, International Movies              274\n",
            "Dramas, Independent Movies, International Movies    252\n",
            "Name: listed_in, dtype: int64\n"
          ]
        }
      ]
    },
    {
      "cell_type": "code",
      "source": [
        "#Q2\n",
        "\n",
        "# load the dataset\n",
        "filename = 'DSC1010Data/netflix_titles.csv'\n",
        "netflix_titles_df = pd.read_csv(filename)\n",
        "\n",
        "\n",
        "netflix_titles_df[['duration_value', 'duration_unit']] = netflix_titles_df['duration'].str.split(' ', expand=True)\n",
        "\n",
        "# convert the \"duration_value\" column to numeric data type\n",
        "netflix_titles_df['duration_value'] = pd.to_numeric(netflix_titles_df['duration_value'])\n",
        "\n",
        "# calculate the average duration for each category\n",
        "avg_duration_by_category = netflix_titles_df.groupby('listed_in')['duration_value'].mean()\n",
        "\n",
        "# print the result\n",
        "print(avg_duration_by_category)"
      ],
      "metadata": {
        "colab": {
          "base_uri": "https://localhost:8080/"
        },
        "id": "KBdBY_MYTXk4",
        "outputId": "5c913da6-f6b3-4279-bc27-b9af1a52450c"
      },
      "execution_count": null,
      "outputs": [
        {
          "output_type": "stream",
          "name": "stdout",
          "text": [
            "listed_in\n",
            "Action & Adventure                                              104.890625\n",
            "Action & Adventure, Anime Features                               84.000000\n",
            "Action & Adventure, Anime Features, Children & Family Movies     91.750000\n",
            "Action & Adventure, Anime Features, Classic Movies              119.500000\n",
            "Action & Adventure, Anime Features, Horror Movies                96.000000\n",
            "                                                                   ...    \n",
            "TV Horror, TV Mysteries, Teen TV Shows                            1.000000\n",
            "TV Horror, Teen TV Shows                                          1.500000\n",
            "TV Sci-Fi & Fantasy, TV Thrillers                                 3.000000\n",
            "TV Shows                                                          1.000000\n",
            "Thrillers                                                        99.953846\n",
            "Name: duration_value, Length: 514, dtype: float64\n"
          ]
        }
      ]
    },
    {
      "cell_type": "code",
      "source": [
        "#Q3\n",
        "\n",
        "plt.figure(figsize=(12,10))\n",
        "sns.set(style=\"darkgrid\")\n",
        "ax = sns.countplot(x=\"rating\", data=netflix_titles_df, palette=\"Set2\", order=netflix_titles_df['rating'].value_counts().index[0:15])\n"
      ],
      "metadata": {
        "colab": {
          "base_uri": "https://localhost:8080/",
          "height": 611
        },
        "id": "6ADC6aDkWHCM",
        "outputId": "0053d0eb-67ae-461e-f95f-fbcae920fb6b"
      },
      "execution_count": null,
      "outputs": [
        {
          "output_type": "display_data",
          "data": {
            "text/plain": [
              "<Figure size 864x720 with 1 Axes>"
            ],
            "image/png": "[encoded data removed]"
          },
          "metadata": {
            "needs_background": "light"
          }
        }
      ]
    },
    {
      "cell_type": "markdown",
      "source": [
        "The largest count of movies are made with the 'TV-MA' rating.\"TV-MA\" is a rating assigned by the TV Parental Guidelines to a television program that was designed for mature audiences only."
      ],
      "metadata": {
        "id": "AldqFcCGqiFN"
      }
    },
    {
      "cell_type": "code",
      "source": [
        "#Q4\n",
        "filename = 'DSC1010Data/netflix_titles.csv'\n",
        "netflix_titles_df = pd.read_csv(filename)\n",
        "\n",
        "\n",
        "\n",
        "# Define the theme to explore\n",
        "theme = 'mental health'\n",
        "\n",
        "# Filter the dataset for titles with the theme in the description\n",
        "mental_health = netflix_titles_df[netflix_titles_df['description'].str.contains(theme, case=False)]\n",
        "\n",
        "# Print the results\n",
        "print(mental_health[['title', 'description']])"
      ],
      "metadata": {
        "colab": {
          "base_uri": "https://localhost:8080/"
        },
        "id": "RkEDNyP-W1km",
        "outputId": "33d0c956-351a-47c7-fa78-88effe049ee0"
      },
      "execution_count": null,
      "outputs": [
        {
          "output_type": "stream",
          "name": "stdout",
          "text": [
            "                                   title  \\\n",
            "101               Untold: Breaking Point   \n",
            "2627              Coronavirus, Explained   \n",
            "3075                        Spinning Out   \n",
            "3561  13 Reasons Why: Beyond the Reasons   \n",
            "7591                       No Estoy Loca   \n",
            "8698                               Warda   \n",
            "\n",
            "                                            description  \n",
            "101   Under pressure to continue a winning tradition...  \n",
            "2627  In 2020, the world changed. This topical serie...  \n",
            "3075  A figure skating Olympic hopeful struggles to ...  \n",
            "3561  Cast members, writers, producers and mental he...  \n",
            "7591  A woman enters a quirky mental health clinic a...  \n",
            "8698  When an aspiring documentarian returns to his ...  \n"
          ]
        }
      ]
    },
    {
      "cell_type": "code",
      "source": [
        "#Q5\n",
        "filename = 'DSC1010Data/netflix_titles.csv'\n",
        "df = pd.read_csv(filename)\n",
        "\n",
        "\n",
        "# create a new dataframe that includes only movies and TV shows with a female lead character\n",
        "female_lead_df = df[df['description'].str.contains('female lead|strong female character|women protagonists', case=False) | df['cast'].str.contains('female', case=False)]\n",
        "\n",
        "# print the titles of the movies and TV shows in the new dataframe\n",
        "print(female_lead_df['title'])"
      ],
      "metadata": {
        "colab": {
          "base_uri": "https://localhost:8080/"
        },
        "id": "SgcfnKRTYwVz",
        "outputId": "0a21366e-a010-4ef4-f1a2-4c2f33c74383"
      },
      "execution_count": null,
      "outputs": [
        {
          "output_type": "stream",
          "name": "stdout",
          "text": [
            "2064    Borgen\n",
            "Name: title, dtype: object\n"
          ]
        }
      ]
    },
    {
      "cell_type": "code",
      "source": [
        "#Q6\n",
        "import pandas as pd\n",
        "\n",
        "\n",
        "# group the dataset by cast and count the number of productions for each cast member\n",
        "cast_counts = df.groupby('cast')['title'].count().reset_index(name='count')\n",
        "\n",
        "# sort the counts in descending order to find the cast members who appear in the most productions\n",
        "most_frequent_cast = cast_counts.sort_values('count', ascending=False).reset_index(drop=True)\n",
        "\n",
        "# print the top 10 cast members who appear in the most productions\n",
        "print(most_frequent_cast.head(10))\n"
      ],
      "metadata": {
        "colab": {
          "base_uri": "https://localhost:8080/"
        },
        "id": "UFjrdbUqZv0v",
        "outputId": "e19a8aa3-f649-4f1d-9739-b70ea728454b"
      },
      "execution_count": null,
      "outputs": [
        {
          "output_type": "stream",
          "name": "stdout",
          "text": [
            "                                                cast  count\n",
            "0                                 David Attenborough     19\n",
            "1  Vatsal Dubey, Julie Tejwani, Rupa Bhimani, Jig...     14\n",
            "2                                        Samuel West     10\n",
            "3                                        Jeff Dunham      7\n",
            "4                                         Kevin Hart      6\n",
            "5                                      Craig Sechler      6\n",
            "6  Michela Luci, Jamie Watson, Eric Peterson, Ann...      6\n",
            "7       David Spade, London Hughes, Fortune Feimster      6\n",
            "8                                       Jim Gaffigan      5\n",
            "9                                          Bill Burr      5\n"
          ]
        }
      ]
    },
    {
      "cell_type": "code",
      "source": [
        "import pandas as pd\n",
        "\n",
        "\n",
        "# filter the dataset to include only productions with female and/or non-white directors\n",
        "female_and_nonwhite_directors_df = df[(df['director'].str.contains('Female', case=False)) | (df['director'].str.contains('non-white', case=False))]\n",
        "\n",
        "# print the titles and directors of the filtered productions\n",
        "print(female_and_nonwhite_directors_df[['title', 'director']])\n"
      ],
      "metadata": {
        "colab": {
          "base_uri": "https://localhost:8080/"
        },
        "id": "vvBYWdoaaCdf",
        "outputId": "72ee7230-5216-4893-fa16-75678fc885d7"
      },
      "execution_count": null,
      "outputs": [
        {
          "output_type": "stream",
          "name": "stdout",
          "text": [
            "Empty DataFrame\n",
            "Columns: [title, director]\n",
            "Index: []\n"
          ]
        }
      ]
    },
    {
      "cell_type": "markdown",
      "source": [
        "## More extra Credit. You will get +5 extra credit points for each of the questions to ponder you answer by writing code to answer them"
      ],
      "metadata": {
        "id": "FlDjDegbkp9I"
      }
    },
    {
      "cell_type": "code",
      "source": [],
      "metadata": {
        "id": "HHe1DQFnSEpi"
      },
      "execution_count": null,
      "outputs": []
    },
    {
      "cell_type": "markdown",
      "metadata": {
        "id": "_VFljGSXgTyb"
      },
      "source": [
        "# Your questions!\n",
        "\n",
        "Write at least three other questions that come to mind as you consider the Netflix Titles data used in the lab?\n",
        "\n"
      ]
    }
  ]
}