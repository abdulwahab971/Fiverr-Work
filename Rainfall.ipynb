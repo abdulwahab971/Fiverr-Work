{
  "nbformat": 4,
  "nbformat_minor": 0,
  "metadata": {
    "colab": {
      "provenance": [],
      "include_colab_link": true
    },
    "kernelspec": {
      "name": "python3",
      "display_name": "Python 3"
    },
    "language_info": {
      "name": "python"
    }
  },
  "cells": [
    {
      "cell_type": "markdown",
      "metadata": {
        "id": "view-in-github",
        "colab_type": "text"
      },
      "source": [
        "<a href=\"https://colab.research.google.com/github/abdulwahab971/Fiverr-Work/blob/main/Rainfall.ipynb\" target=\"_parent\"><img src=\"https://colab.research.google.com/assets/colab-badge.svg\" alt=\"Open In Colab\"/></a>"
      ]
    },
    {
      "cell_type": "markdown",
      "source": [
        "Run the following two code cells to create the arrays you will use throughout the rest of the assignment"
      ],
      "metadata": {
        "id": "hVyFa2tIMbQC"
      }
    },
    {
      "cell_type": "code",
      "execution_count": null,
      "metadata": {
        "id": "YXudtnE8TX5_"
      },
      "outputs": [],
      "source": [
        "#Here is some rainfall data for mornings and nights over 10 days. \n",
        "#Each number shows rainfall in inches\n",
        "morningsRF = [0.7, 0, 0.4, 0.1, 0, 0, 1.2, 0.9, 0.2, 0.4]\n",
        "nightsRF = [0.1, 0, 0, 0.6, 0, 0.8, 0.4, 0.1, 0, 0.2]"
      ]
    },
    {
      "cell_type": "code",
      "source": [
        "#How many entries are there in the list morningsRF?\n",
        "print(len(morningsRF))"
      ],
      "metadata": {
        "id": "IqCqhTpEUuu8",
        "colab": {
          "base_uri": "https://localhost:8080/"
        },
        "outputId": "24831841-b199-4dce-e58a-1a9e28495b5f"
      },
      "execution_count": null,
      "outputs": [
        {
          "output_type": "stream",
          "name": "stdout",
          "text": [
            "10\n"
          ]
        }
      ]
    },
    {
      "cell_type": "markdown",
      "source": [
        "For each of the following code cells: Write a line of code to obtain the information requested or answer the questions posed in the code comment. The answer should be shown after you run the code cell just like the previous cell"
      ],
      "metadata": {
        "id": "7MUO-7y-KQBn"
      }
    },
    {
      "cell_type": "code",
      "source": [
        "# a) How many entries are there in the list nightsRF?\n",
        "print(len(nightsRF))"
      ],
      "metadata": {
        "id": "S7W6l7HDKLwM",
        "colab": {
          "base_uri": "https://localhost:8080/"
        },
        "outputId": "329780e9-7ab7-4a59-e6b4-57a6ebd9148d"
      },
      "execution_count": null,
      "outputs": [
        {
          "output_type": "stream",
          "name": "stdout",
          "text": [
            "10\n"
          ]
        }
      ]
    },
    {
      "cell_type": "code",
      "source": [
        "# b) What is the first element of morning rainfall?\n",
        "morningsRF[0]"
      ],
      "metadata": {
        "id": "uMZxCHAiU9TF",
        "colab": {
          "base_uri": "https://localhost:8080/"
        },
        "outputId": "a8b120d8-a80c-4240-fd0f-200c189083cc"
      },
      "execution_count": null,
      "outputs": [
        {
          "output_type": "execute_result",
          "data": {
            "text/plain": [
              "0.7"
            ]
          },
          "metadata": {},
          "execution_count": 5
        }
      ]
    },
    {
      "cell_type": "code",
      "source": [
        "# c) What is the last element of night rainfall? \n",
        "nightsRF[-1]"
      ],
      "metadata": {
        "id": "Zq5u-XjqVAoU",
        "colab": {
          "base_uri": "https://localhost:8080/"
        },
        "outputId": "6bc7e27a-035e-4306-8f7f-741eae89e7b5"
      },
      "execution_count": null,
      "outputs": [
        {
          "output_type": "execute_result",
          "data": {
            "text/plain": [
              "0.2"
            ]
          },
          "metadata": {},
          "execution_count": 6
        }
      ]
    },
    {
      "cell_type": "markdown",
      "source": [
        "For the following two questions you can use either a loop or the sum function"
      ],
      "metadata": {
        "id": "6fdxqKwIJ-WC"
      }
    },
    {
      "cell_type": "code",
      "source": [
        "# d) what is the total nighttime rainfall?\n",
        "print(sum(nightsRF))\n"
      ],
      "metadata": {
        "id": "33hhZYyqVwqL",
        "colab": {
          "base_uri": "https://localhost:8080/"
        },
        "outputId": "4b74b35e-ac5c-441a-8d78-df67fa9ebb6a"
      },
      "execution_count": null,
      "outputs": [
        {
          "output_type": "stream",
          "name": "stdout",
          "text": [
            "2.2\n"
          ]
        }
      ]
    },
    {
      "cell_type": "code",
      "source": [
        "# e) what is the total daytime rainfall??\n",
        "print(sum(morningsRF))\n"
      ],
      "metadata": {
        "id": "DvRREGgwVxNY",
        "colab": {
          "base_uri": "https://localhost:8080/"
        },
        "outputId": "0038f326-0b60-4143-e864-533efe9600c0"
      },
      "execution_count": null,
      "outputs": [
        {
          "output_type": "stream",
          "name": "stdout",
          "text": [
            "3.9000000000000004\n"
          ]
        }
      ]
    },
    {
      "cell_type": "markdown",
      "source": [
        "The following code cell is an example"
      ],
      "metadata": {
        "id": "HLJZcvGHKheL"
      }
    },
    {
      "cell_type": "code",
      "source": [
        "# what is the average of the nights?\n",
        "night_average = sum(nightsRF)/len(nightsRF)\n",
        "print(night_average)"
      ],
      "metadata": {
        "id": "xi4WjWLvV0PX",
        "colab": {
          "base_uri": "https://localhost:8080/"
        },
        "outputId": "5a790348-36c0-4637-ed4f-148140ce3a7a"
      },
      "execution_count": null,
      "outputs": [
        {
          "output_type": "stream",
          "name": "stdout",
          "text": [
            "0.22000000000000003\n"
          ]
        }
      ]
    },
    {
      "cell_type": "code",
      "source": [
        "# f) what is the average of the mornings? \n",
        "mornings_average = sum(morningsRF)/len(morningsRF)\n",
        "print(mornings_average)\n"
      ],
      "metadata": {
        "id": "zLfBvuoKVywE",
        "colab": {
          "base_uri": "https://localhost:8080/"
        },
        "outputId": "be1e9f29-538a-4f75-c829-810140db25b6"
      },
      "execution_count": null,
      "outputs": [
        {
          "output_type": "stream",
          "name": "stdout",
          "text": [
            "0.39\n"
          ]
        }
      ]
    },
    {
      "cell_type": "code",
      "source": [
        "# g) create a new list with total rainfall on each day and print its contents to console\n",
        "total_rainfall = morningsRF + nightsRF\n",
        "for a in total_rainfall:\n",
        "  print(a)"
      ],
      "metadata": {
        "id": "kSjR_GpNV2Ln",
        "colab": {
          "base_uri": "https://localhost:8080/"
        },
        "outputId": "96ead632-3c91-471b-a004-cbc46bb3dd3f"
      },
      "execution_count": null,
      "outputs": [
        {
          "output_type": "stream",
          "name": "stdout",
          "text": [
            "0.7\n",
            "0\n",
            "0.4\n",
            "0.1\n",
            "0\n",
            "0\n",
            "1.2\n",
            "0.9\n",
            "0.2\n",
            "0.4\n",
            "0.1\n",
            "0\n",
            "0\n",
            "0.6\n",
            "0\n",
            "0.8\n",
            "0.4\n",
            "0.1\n",
            "0\n",
            "0.2\n"
          ]
        }
      ]
    },
    {
      "cell_type": "code",
      "source": [
        "# h) what is the total rainfall for the entire 10 day period?\n",
        "len(total_rainfall)"
      ],
      "metadata": {
        "id": "-Sj7MXawV8sh",
        "colab": {
          "base_uri": "https://localhost:8080/"
        },
        "outputId": "d38f5830-6b51-46f7-9694-826bdeb83691"
      },
      "execution_count": null,
      "outputs": [
        {
          "output_type": "execute_result",
          "data": {
            "text/plain": [
              "20"
            ]
          },
          "metadata": {},
          "execution_count": 18
        }
      ]
    },
    {
      "cell_type": "markdown",
      "source": [
        "Run the following three code cells and examine the results. You do not need to modify or write any code for these. You will need to write code for the fourth one"
      ],
      "metadata": {
        "id": "D1mvlO-1LPZl"
      }
    },
    {
      "cell_type": "code",
      "source": [
        "import numpy as np"
      ],
      "metadata": {
        "id": "i-XVjjNAhi80"
      },
      "execution_count": null,
      "outputs": []
    },
    {
      "cell_type": "code",
      "source": [
        "# which number day has the max rainfall? (What is the index of the maximum?)\n",
        "#argmax solution\n",
        "print(np.argmax(total_rainfall))"
      ],
      "metadata": {
        "id": "v5jc4BJeV-Jr",
        "colab": {
          "base_uri": "https://localhost:8080/"
        },
        "outputId": "bbbe81f3-3061-44b1-c459-4af5d6314c5e"
      },
      "execution_count": null,
      "outputs": [
        {
          "output_type": "stream",
          "name": "stdout",
          "text": [
            "6\n"
          ]
        }
      ]
    },
    {
      "cell_type": "code",
      "source": [
        "# where is the solution\n",
        "idx=np.where(total_rainfall == max(total_rainfall))\n",
        "print(idx)"
      ],
      "metadata": {
        "id": "Ld_PJsUEL8mL",
        "colab": {
          "base_uri": "https://localhost:8080/"
        },
        "outputId": "1c03c632-9b75-4b26-ad18-7f9d4c2f095d"
      },
      "execution_count": null,
      "outputs": [
        {
          "output_type": "stream",
          "name": "stdout",
          "text": [
            "(array([], dtype=int64),)\n"
          ]
        }
      ]
    },
    {
      "cell_type": "code",
      "source": [
        "# list solution, only works if object is a LIST\n",
        "total_rainfall = list(total_rainfall)\n",
        "total_rainfall.index(max(total_rainfall))"
      ],
      "metadata": {
        "id": "YLYGKsuAMDZx",
        "colab": {
          "base_uri": "https://localhost:8080/"
        },
        "outputId": "353b2205-a6ec-4044-83c5-d16066a043c8"
      },
      "execution_count": null,
      "outputs": [
        {
          "output_type": "execute_result",
          "data": {
            "text/plain": [
              "6"
            ]
          },
          "metadata": {},
          "execution_count": 23
        }
      ]
    },
    {
      "cell_type": "code",
      "source": [
        "# i) which number day has the min rainfall?\n",
        "# hint: can be solve in any of the previous ways replacing max by min\n",
        "total_rainfall = list(total_rainfall)\n",
        "total_rainfall.index(min(total_rainfall))"
      ],
      "metadata": {
        "id": "hheAKTvJWm80",
        "colab": {
          "base_uri": "https://localhost:8080/"
        },
        "outputId": "64162600-0e08-4305-84b2-62ac08f44cac"
      },
      "execution_count": null,
      "outputs": [
        {
          "output_type": "execute_result",
          "data": {
            "text/plain": [
              "1"
            ]
          },
          "metadata": {},
          "execution_count": 24
        }
      ]
    },
    {
      "cell_type": "markdown",
      "source": [
        "The package pyplot is the standard plotter, from now on we'll usually paste this line at the top of our notebooks:"
      ],
      "metadata": {
        "id": "x2oq7w4bXM2V"
      }
    },
    {
      "cell_type": "code",
      "source": [
        "import matplotlib.pyplot as plt"
      ],
      "metadata": {
        "id": "peNN_HP8WxoT"
      },
      "execution_count": null,
      "outputs": []
    },
    {
      "cell_type": "markdown",
      "source": [
        "To make a histogram in python use the \"hist\" function.\n",
        "\n",
        "The first variable is the array and the second is the number of bins\n",
        "\n",
        "Many of these functions have lots of parameters, google and see what parameters are available to change"
      ],
      "metadata": {
        "id": "4PwvjtsEPO1f"
      }
    },
    {
      "cell_type": "code",
      "source": [
        "#EXAMPLE\n",
        "# \n",
        "#_ = plt.hist([0,1,2,3,4,4,6,7,8,9], bins=10)\n",
        "data = [0,1,2,3,4,4,6,7,8,9]\n",
        "plt.hist(data)\n",
        "plt.xlabel('x axis')\n",
        "plt.ylabel('y axis')"
      ],
      "metadata": {
        "id": "bDZWo6r7WyLW",
        "colab": {
          "base_uri": "https://localhost:8080/",
          "height": 466
        },
        "outputId": "9e6accfb-0bd0-4145-9573-fab1e59ccc71"
      },
      "execution_count": null,
      "outputs": [
        {
          "output_type": "execute_result",
          "data": {
            "text/plain": [
              "Text(0, 0.5, 'y axis')"
            ]
          },
          "metadata": {},
          "execution_count": 26
        },
        {
          "output_type": "display_data",
          "data": {
            "text/plain": [
              "<Figure size 640x480 with 1 Axes>"
            ],
            "image/png": "[encoded data removed]"
          },
          "metadata": {}
        }
      ]
    },
    {
      "cell_type": "markdown",
      "source": [
        "Now you have to write code again for the last task"
      ],
      "metadata": {
        "id": "ukcZn1I5PZwM"
      }
    },
    {
      "cell_type": "code",
      "source": [
        "# j) make a histogram for the total daily rainfall\n",
        "# label the x-axis as rainfall\n",
        "# label the y-axis as counts"
      ],
      "metadata": {
        "id": "skYx7U-qXcmT"
      },
      "execution_count": null,
      "outputs": []
    },
    {
      "cell_type": "code",
      "source": [
        "data = total_rainfall\n",
        "plt.hist(data)\n",
        "plt.xlabel('Rainfall')\n",
        "plt.ylabel('Count')"
      ],
      "metadata": {
        "id": "cuv4YMf8YGMF",
        "colab": {
          "base_uri": "https://localhost:8080/",
          "height": 466
        },
        "outputId": "a963c08f-eca0-432c-8f24-bb87b869b950"
      },
      "execution_count": null,
      "outputs": [
        {
          "output_type": "execute_result",
          "data": {
            "text/plain": [
              "Text(0, 0.5, 'Count')"
            ]
          },
          "metadata": {},
          "execution_count": 28
        },
        {
          "output_type": "display_data",
          "data": {
            "text/plain": [
              "<Figure size 640x480 with 1 Axes>"
            ],
            "image/png": "[encoded data removed]"
          },
          "metadata": {}
        }
      ]
    },
    {
      "cell_type": "markdown",
      "source": [
        "k) Write on the text cell below, an analysis describing what the rainfall histogram shows"
      ],
      "metadata": {
        "id": "D1I1FQgRNbHS"
      }
    },
    {
      "cell_type": "markdown",
      "source": [
        "Based on the histogram of the total rainfall data, we can see that the rainfall amounts are mostly clustered around 0.5 to 1.0 units, with a few outliers on either end. The histogram is skewed to the right, with more values on the higher end of the scale than the lower end.\n",
        "\n",
        "The majority of the data falls within the range of 0.5 to 1.0, with the highest peak in the histogram appearing at around 0.8. This indicates that this amount of rainfall is the most common value in the dataset.\n",
        "\n",
        "The histogram also shows that there are some lower values of rainfall in the dataset, with a few instances of rainfall amounts close to zero. On the other hand, there are some higher values of rainfall in the dataset as well, with a few instances of rainfall amounts exceeding 1.5 units. However, these values are much less frequent than the values in the 0.5 to 1.0 range.\n",
        "\n",
        "Overall, the rainfall histogram suggests that the total rainfall data is slightly positively skewed, with a majority of the values falling within a narrow range. The high frequency of rainfall amounts around 0.8 suggests that this is a typical or average value for this dataset."
      ],
      "metadata": {
        "id": "JTbzilrQiRNR"
      }
    }
  ]
}